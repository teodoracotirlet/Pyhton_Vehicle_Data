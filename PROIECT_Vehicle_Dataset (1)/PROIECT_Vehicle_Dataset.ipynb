{
 "cells": [
  {
   "cell_type": "code",
   "execution_count": 99,
   "id": "8b0e9654",
   "metadata": {},
   "outputs": [],
   "source": [
    "#libraries\n",
    "import numpy as np\n",
    "import matplotlib.pyplot as plt\n",
    "import pandas as pd\n",
    "import seaborn as sns\n",
    "from sklearn.impute import SimpleImputer\n",
    "from sklearn.preprocessing import OneHotEncoder\n",
    "from sklearn.compose import ColumnTransformer\n",
    "from sklearn.model_selection import train_test_split\n",
    "from sklearn.linear_model import LinearRegression\n",
    "from sklearn.preprocessing import PolynomialFeatures\n",
    "from sklearn.tree import DecisionTreeRegressor\n",
    "from sklearn.svm import SVR\n",
    "from sklearn.metrics import r2_score\n",
    "from sklearn.metrics import mean_squared_error, mean_absolute_error\n",
    "from sklearn.preprocessing import StandardScaler\n",
    "\n",
    "df = pd.read_csv(\"car_data.csv\" )"
   ]
  },
  {
   "cell_type": "code",
   "execution_count": null,
   "id": "b251b4c1",
   "metadata": {},
   "outputs": [],
   "source": [
    "#CONTRIBUȚIA LA PROIECT\n",
    "\n",
    "#-fiecare dintre noi am contribuit în mod egal la realizarea acestui proiect deoarece de fiecare dată când am lucrat la acesta,\n",
    "#ne-am întâlnit și am discutat, iar apoi am implementat ideile fiecăreia."
   ]
  },
  {
   "cell_type": "code",
   "execution_count": 100,
   "id": "320cf413",
   "metadata": {},
   "outputs": [
    {
     "data": {
      "text/html": [
       "<div>\n",
       "<style scoped>\n",
       "    .dataframe tbody tr th:only-of-type {\n",
       "        vertical-align: middle;\n",
       "    }\n",
       "\n",
       "    .dataframe tbody tr th {\n",
       "        vertical-align: top;\n",
       "    }\n",
       "\n",
       "    .dataframe thead th {\n",
       "        text-align: right;\n",
       "    }\n",
       "</style>\n",
       "<table border=\"1\" class=\"dataframe\">\n",
       "  <thead>\n",
       "    <tr style=\"text-align: right;\">\n",
       "      <th></th>\n",
       "      <th>year</th>\n",
       "      <th>selling_price</th>\n",
       "      <th>present_price</th>\n",
       "      <th>km_driven</th>\n",
       "      <th>owner</th>\n",
       "    </tr>\n",
       "  </thead>\n",
       "  <tbody>\n",
       "    <tr>\n",
       "      <th>count</th>\n",
       "      <td>301.000000</td>\n",
       "      <td>301.000000</td>\n",
       "      <td>301.000000</td>\n",
       "      <td>301.000000</td>\n",
       "      <td>301.000000</td>\n",
       "    </tr>\n",
       "    <tr>\n",
       "      <th>mean</th>\n",
       "      <td>2013.627907</td>\n",
       "      <td>4.661296</td>\n",
       "      <td>7.628472</td>\n",
       "      <td>36947.205980</td>\n",
       "      <td>0.043189</td>\n",
       "    </tr>\n",
       "    <tr>\n",
       "      <th>std</th>\n",
       "      <td>2.891554</td>\n",
       "      <td>5.082812</td>\n",
       "      <td>8.644115</td>\n",
       "      <td>38886.883882</td>\n",
       "      <td>0.247915</td>\n",
       "    </tr>\n",
       "    <tr>\n",
       "      <th>min</th>\n",
       "      <td>2003.000000</td>\n",
       "      <td>0.100000</td>\n",
       "      <td>0.320000</td>\n",
       "      <td>500.000000</td>\n",
       "      <td>0.000000</td>\n",
       "    </tr>\n",
       "    <tr>\n",
       "      <th>25%</th>\n",
       "      <td>2012.000000</td>\n",
       "      <td>0.900000</td>\n",
       "      <td>1.200000</td>\n",
       "      <td>15000.000000</td>\n",
       "      <td>0.000000</td>\n",
       "    </tr>\n",
       "    <tr>\n",
       "      <th>50%</th>\n",
       "      <td>2014.000000</td>\n",
       "      <td>3.600000</td>\n",
       "      <td>6.400000</td>\n",
       "      <td>32000.000000</td>\n",
       "      <td>0.000000</td>\n",
       "    </tr>\n",
       "    <tr>\n",
       "      <th>75%</th>\n",
       "      <td>2016.000000</td>\n",
       "      <td>6.000000</td>\n",
       "      <td>9.900000</td>\n",
       "      <td>48767.000000</td>\n",
       "      <td>0.000000</td>\n",
       "    </tr>\n",
       "    <tr>\n",
       "      <th>max</th>\n",
       "      <td>2018.000000</td>\n",
       "      <td>35.000000</td>\n",
       "      <td>92.600000</td>\n",
       "      <td>500000.000000</td>\n",
       "      <td>3.000000</td>\n",
       "    </tr>\n",
       "  </tbody>\n",
       "</table>\n",
       "</div>"
      ],
      "text/plain": [
       "              year  selling_price  present_price      km_driven       owner\n",
       "count   301.000000     301.000000     301.000000     301.000000  301.000000\n",
       "mean   2013.627907       4.661296       7.628472   36947.205980    0.043189\n",
       "std       2.891554       5.082812       8.644115   38886.883882    0.247915\n",
       "min    2003.000000       0.100000       0.320000     500.000000    0.000000\n",
       "25%    2012.000000       0.900000       1.200000   15000.000000    0.000000\n",
       "50%    2014.000000       3.600000       6.400000   32000.000000    0.000000\n",
       "75%    2016.000000       6.000000       9.900000   48767.000000    0.000000\n",
       "max    2018.000000      35.000000      92.600000  500000.000000    3.000000"
      ]
     },
     "execution_count": 100,
     "metadata": {},
     "output_type": "execute_result"
    }
   ],
   "source": [
    "df.describe()\n",
    "\n",
    "#LEGENDĂ ATRIBUTE\n",
    "#-year: anul producției automobilului\n",
    "#selling_price: prețul de vânzare al unei mașini utilizate\n",
    "#present_price: prețul cu care e vândută o mașină după fabricație (neutilizată)\n",
    "#km_driven: kilometri reali\n",
    "#fuel: combustibil  (diesel, GPL, benzina)\n",
    "#seller_type: tipul de vânzător (dealer, persoană fizică)\n",
    "#transmission: cutie automată sau manuală\n",
    "#owner: nr. de proprietari \n"
   ]
  },
  {
   "cell_type": "code",
   "execution_count": 101,
   "id": "9ebdc362",
   "metadata": {},
   "outputs": [
    {
     "name": "stdout",
     "output_type": "stream",
     "text": [
      "<class 'pandas.core.frame.DataFrame'>\n",
      "RangeIndex: 301 entries, 0 to 300\n",
      "Data columns (total 9 columns):\n",
      " #   Column         Non-Null Count  Dtype  \n",
      "---  ------         --------------  -----  \n",
      " 0   Car_Name       301 non-null    object \n",
      " 1   year           301 non-null    int64  \n",
      " 2   selling_price  301 non-null    float64\n",
      " 3   present_price  301 non-null    float64\n",
      " 4   km_driven      301 non-null    int64  \n",
      " 5   fuel           301 non-null    object \n",
      " 6   seller_type    301 non-null    object \n",
      " 7   transmission   301 non-null    object \n",
      " 8   owner          301 non-null    int64  \n",
      "dtypes: float64(2), int64(3), object(4)\n",
      "memory usage: 21.3+ KB\n"
     ]
    }
   ],
   "source": [
    "df.info()"
   ]
  },
  {
   "cell_type": "code",
   "execution_count": 102,
   "id": "dde6985e",
   "metadata": {},
   "outputs": [
    {
     "name": "stdout",
     "output_type": "stream",
     "text": [
      "Numarul de linii si coloane:\n"
     ]
    },
    {
     "data": {
      "text/plain": [
       "(301, 9)"
      ]
     },
     "execution_count": 102,
     "metadata": {},
     "output_type": "execute_result"
    }
   ],
   "source": [
    "print(\"Numarul de linii si coloane:\")\n",
    "df.shape"
   ]
  },
  {
   "cell_type": "code",
   "execution_count": 103,
   "id": "08c540f9",
   "metadata": {},
   "outputs": [
    {
     "data": {
      "text/plain": [
       "<seaborn.axisgrid.PairGrid at 0x16331eb8760>"
      ]
     },
     "execution_count": 103,
     "metadata": {},
     "output_type": "execute_result"
    },
    {
     "data": {
      "image/png": "[encoded data removed]",
      "text/plain": [
       "<Figure size 900x900 with 30 Axes>"
      ]
     },
     "metadata": {
      "needs_background": "light"
     },
     "output_type": "display_data"
    }
   ],
   "source": [
    "sns.pairplot(df)\n",
    "\n",
    "#Distribuția numărului de mașini în funcție de atributele importante"
   ]
  },
  {
   "cell_type": "code",
   "execution_count": 104,
   "id": "66d75b2f",
   "metadata": {},
   "outputs": [
    {
     "name": "stderr",
     "output_type": "stream",
     "text": [
      "D:\\Anaconda\\lib\\site-packages\\seaborn\\_decorators.py:36: FutureWarning: Pass the following variables as keyword args: x, y. From version 0.12, the only valid positional argument will be `data`, and passing other arguments without an explicit keyword will result in an error or misinterpretation.\n",
      "  warnings.warn(\n"
     ]
    },
    {
     "data": {
      "text/plain": [
       "<AxesSubplot:xlabel='seller_type', ylabel='selling_price'>"
      ]
     },
     "execution_count": 104,
     "metadata": {},
     "output_type": "execute_result"
    },
    {
     "data": {
      "image/png": "[encoded data removed]",
      "text/plain": [
       "<Figure size 432x288 with 1 Axes>"
      ]
     },
     "metadata": {
      "needs_background": "light"
     },
     "output_type": "display_data"
    }
   ],
   "source": [
    "sns.barplot('seller_type','selling_price',data=df,palette='twilight')\n",
    "\n",
    "#Raportul dintre mașinile care sunt vândute de către dealeri si cele vândute de persoane fizice"
   ]
  },
  {
   "cell_type": "code",
   "execution_count": 7,
   "id": "b937131a",
   "metadata": {},
   "outputs": [
    {
     "name": "stderr",
     "output_type": "stream",
     "text": [
      "C:\\Users\\Andy\\anaconda3\\lib\\site-packages\\seaborn\\_decorators.py:36: FutureWarning: Pass the following variables as keyword args: x, y. From version 0.12, the only valid positional argument will be `data`, and passing other arguments without an explicit keyword will result in an error or misinterpretation.\n",
      "  warnings.warn(\n"
     ]
    },
    {
     "data": {
      "text/plain": [
       "<AxesSubplot:xlabel='transmission', ylabel='selling_price'>"
      ]
     },
     "execution_count": 7,
     "metadata": {},
     "output_type": "execute_result"
    },
    {
     "data": {
      "image/png": "[encoded data removed]",
      "text/plain": [
       "<Figure size 432x288 with 1 Axes>"
      ]
     },
     "metadata": {
      "needs_background": "light"
     },
     "output_type": "display_data"
    }
   ],
   "source": [
    "sns.barplot('transmission','selling_price',data=df,palette='spring')\n",
    "\n",
    "#Raportul dintre mașinile care au cutie automată și care au cutie manuală"
   ]
  },
  {
   "cell_type": "code",
   "execution_count": 10,
   "id": "852396fc",
   "metadata": {},
   "outputs": [
    {
     "name": "stderr",
     "output_type": "stream",
     "text": [
      "C:\\Users\\Andy\\anaconda3\\lib\\site-packages\\seaborn\\_decorators.py:36: FutureWarning: Pass the following variables as keyword args: x, y. From version 0.12, the only valid positional argument will be `data`, and passing other arguments without an explicit keyword will result in an error or misinterpretation.\n",
      "  warnings.warn(\n"
     ]
    },
    {
     "data": {
      "text/plain": [
       "<AxesSubplot:xlabel='fuel', ylabel='selling_price'>"
      ]
     },
     "execution_count": 10,
     "metadata": {},
     "output_type": "execute_result"
    },
    {
     "data": {
      "image/png": "[encoded data removed]",
      "text/plain": [
       "<Figure size 432x288 with 1 Axes>"
      ]
     },
     "metadata": {
      "needs_background": "light"
     },
     "output_type": "display_data"
    }
   ],
   "source": [
    "sns.barplot('fuel','selling_price',data=df,palette='summer')\n",
    "\n",
    "#Raportul dintre prețul mașinilor care utilizează benzină, motorină sau CNG"
   ]
  },
  {
   "cell_type": "code",
   "execution_count": 11,
   "id": "bef1720c",
   "metadata": {},
   "outputs": [
    {
     "name": "stderr",
     "output_type": "stream",
     "text": [
      "C:\\Users\\Andy\\anaconda3\\lib\\site-packages\\seaborn\\_decorators.py:36: FutureWarning: Pass the following variables as keyword args: x, y. From version 0.12, the only valid positional argument will be `data`, and passing other arguments without an explicit keyword will result in an error or misinterpretation.\n",
      "  warnings.warn(\n"
     ]
    },
    {
     "data": {
      "text/plain": [
       "<AxesSubplot:xlabel='selling_price', ylabel='year'>"
      ]
     },
     "execution_count": 11,
     "metadata": {},
     "output_type": "execute_result"
    },
    {
     "data": {
      "image/png": "[encoded data removed]",
      "text/plain": [
       "<Figure size 432x288 with 1 Axes>"
      ]
     },
     "metadata": {
      "needs_background": "light"
     },
     "output_type": "display_data"
    }
   ],
   "source": [
    "sns.regplot('selling_price','year',data=df)\n",
    "\n",
    "#Distribuția prețurilor în funcție de ani (2016-2017)"
   ]
  },
  {
   "cell_type": "code",
   "execution_count": 12,
   "id": "de85ac86",
   "metadata": {},
   "outputs": [
    {
     "data": {
      "image/png": "[encoded data removed]",
      "text/plain": [
       "<Figure size 432x288 with 1 Axes>"
      ]
     },
     "metadata": {
      "needs_background": "light"
     },
     "output_type": "display_data"
    },
    {
     "data": {
      "image/png": "[encoded data removed]",
      "text/plain": [
       "<Figure size 432x288 with 1 Axes>"
      ]
     },
     "metadata": {
      "needs_background": "light"
     },
     "output_type": "display_data"
    },
    {
     "data": {
      "image/png": "[encoded data removed]",
      "text/plain": [
       "<Figure size 432x288 with 1 Axes>"
      ]
     },
     "metadata": {
      "needs_background": "light"
     },
     "output_type": "display_data"
    },
    {
     "data": {
      "image/png": "[encoded data removed]",
      "text/plain": [
       "<Figure size 432x288 with 1 Axes>"
      ]
     },
     "metadata": {
      "needs_background": "light"
     },
     "output_type": "display_data"
    }
   ],
   "source": [
    "import seaborn as sns\n",
    "categorii= ['fuel', 'seller_type', 'transmission', 'owner']\n",
    "\n",
    "for i in categorii:\n",
    "    sns.countplot(x=i, data = df)\n",
    "    plt.show()\n",
    "    \n",
    "    \n",
    "#Gruparea mașinilor în funcție de anumite criterii:\n",
    "#combustibil\n",
    "#prorpietar\n",
    "#vânzător\n",
    "  "
   ]
  },
  {
   "cell_type": "code",
   "execution_count": 24,
   "id": "8626e11d",
   "metadata": {},
   "outputs": [
    {
     "data": {
      "text/html": [
       "<div>\n",
       "<style scoped>\n",
       "    .dataframe tbody tr th:only-of-type {\n",
       "        vertical-align: middle;\n",
       "    }\n",
       "\n",
       "    .dataframe tbody tr th {\n",
       "        vertical-align: top;\n",
       "    }\n",
       "\n",
       "    .dataframe thead th {\n",
       "        text-align: right;\n",
       "    }\n",
       "</style>\n",
       "<table border=\"1\" class=\"dataframe\">\n",
       "  <thead>\n",
       "    <tr style=\"text-align: right;\">\n",
       "      <th></th>\n",
       "      <th>Numar_proprietari</th>\n",
       "    </tr>\n",
       "    <tr>\n",
       "      <th>owner</th>\n",
       "      <th></th>\n",
       "    </tr>\n",
       "  </thead>\n",
       "  <tbody>\n",
       "    <tr>\n",
       "      <th>0</th>\n",
       "      <td>290</td>\n",
       "    </tr>\n",
       "    <tr>\n",
       "      <th>1</th>\n",
       "      <td>10</td>\n",
       "    </tr>\n",
       "    <tr>\n",
       "      <th>3</th>\n",
       "      <td>1</td>\n",
       "    </tr>\n",
       "  </tbody>\n",
       "</table>\n",
       "</div>"
      ],
      "text/plain": [
       "       Numar_proprietari\n",
       "owner                   \n",
       "0                    290\n",
       "1                     10\n",
       "3                      1"
      ]
     },
     "execution_count": 24,
     "metadata": {},
     "output_type": "execute_result"
    }
   ],
   "source": [
    "df.groupby(\"owner\").agg(\n",
    "   Numar_proprietari=(\"owner\", \"count\")\n",
    ")\n",
    "\n",
    "#Cele mai multe masini au avut un singur proprietar"
   ]
  },
  {
   "cell_type": "code",
   "execution_count": 25,
   "id": "8af72237",
   "metadata": {},
   "outputs": [
    {
     "data": {
      "text/html": [
       "<div>\n",
       "<style scoped>\n",
       "    .dataframe tbody tr th:only-of-type {\n",
       "        vertical-align: middle;\n",
       "    }\n",
       "\n",
       "    .dataframe tbody tr th {\n",
       "        vertical-align: top;\n",
       "    }\n",
       "\n",
       "    .dataframe thead tr th {\n",
       "        text-align: left;\n",
       "    }\n",
       "</style>\n",
       "<table border=\"1\" class=\"dataframe\">\n",
       "  <thead>\n",
       "    <tr>\n",
       "      <th></th>\n",
       "      <th colspan=\"3\" halign=\"left\">mean</th>\n",
       "      <th colspan=\"3\" halign=\"left\">count</th>\n",
       "    </tr>\n",
       "    <tr>\n",
       "      <th>fuel</th>\n",
       "      <th>CNG</th>\n",
       "      <th>Diesel</th>\n",
       "      <th>Petrol</th>\n",
       "      <th>CNG</th>\n",
       "      <th>Diesel</th>\n",
       "      <th>Petrol</th>\n",
       "    </tr>\n",
       "  </thead>\n",
       "  <tbody>\n",
       "    <tr>\n",
       "      <th>selling_price</th>\n",
       "      <td>3.1</td>\n",
       "      <td>10.2785</td>\n",
       "      <td>3.264184</td>\n",
       "      <td>2</td>\n",
       "      <td>60</td>\n",
       "      <td>239</td>\n",
       "    </tr>\n",
       "  </tbody>\n",
       "</table>\n",
       "</div>"
      ],
      "text/plain": [
       "              mean                    count              \n",
       "fuel           CNG   Diesel    Petrol   CNG Diesel Petrol\n",
       "selling_price  3.1  10.2785  3.264184     2     60    239"
      ]
     },
     "execution_count": 25,
     "metadata": {},
     "output_type": "execute_result"
    }
   ],
   "source": [
    "df.pivot_table(columns='fuel', values='selling_price', aggfunc=['mean', 'count'])\n",
    "\n",
    "#Media in functie de carburant\n"
   ]
  },
  {
   "cell_type": "code",
   "execution_count": 26,
   "id": "8e886a69",
   "metadata": {},
   "outputs": [
    {
     "data": {
      "text/html": [
       "<div>\n",
       "<style scoped>\n",
       "    .dataframe tbody tr th:only-of-type {\n",
       "        vertical-align: middle;\n",
       "    }\n",
       "\n",
       "    .dataframe tbody tr th {\n",
       "        vertical-align: top;\n",
       "    }\n",
       "\n",
       "    .dataframe thead th {\n",
       "        text-align: right;\n",
       "    }\n",
       "</style>\n",
       "<table border=\"1\" class=\"dataframe\">\n",
       "  <thead>\n",
       "    <tr style=\"text-align: right;\">\n",
       "      <th></th>\n",
       "      <th>Numar_masini_in_fct_transmisie</th>\n",
       "    </tr>\n",
       "    <tr>\n",
       "      <th>transmission</th>\n",
       "      <th></th>\n",
       "    </tr>\n",
       "  </thead>\n",
       "  <tbody>\n",
       "    <tr>\n",
       "      <th>Automatic</th>\n",
       "      <td>40</td>\n",
       "    </tr>\n",
       "    <tr>\n",
       "      <th>Manual</th>\n",
       "      <td>261</td>\n",
       "    </tr>\n",
       "  </tbody>\n",
       "</table>\n",
       "</div>"
      ],
      "text/plain": [
       "              Numar_masini_in_fct_transmisie\n",
       "transmission                                \n",
       "Automatic                                 40\n",
       "Manual                                   261"
      ]
     },
     "execution_count": 26,
     "metadata": {},
     "output_type": "execute_result"
    }
   ],
   "source": [
    "df.groupby(\"transmission\").agg(\n",
    "   Numar_masini_in_fct_transmisie=(\"transmission\", \"count\")\n",
    ")\n",
    "\n",
    "\n",
    "#Sunt mai multe masini cu transmisie manuală, mai exact cu 221."
   ]
  },
  {
   "cell_type": "code",
   "execution_count": 16,
   "id": "9ef9308b",
   "metadata": {},
   "outputs": [
    {
     "data": {
      "text/plain": [
       "<AxesSubplot:xlabel='fuel', ylabel='selling_price'>"
      ]
     },
     "execution_count": 16,
     "metadata": {},
     "output_type": "execute_result"
    },
    {
     "data": {
      "image/png": "[encoded data removed]",
      "text/plain": [
       "<Figure size 432x288 with 1 Axes>"
      ]
     },
     "metadata": {
      "needs_background": "light"
     },
     "output_type": "display_data"
    }
   ],
   "source": [
    "sns.barplot(x=df[\"fuel\"], y=df[\"selling_price\"])\n",
    "\n",
    "#Prețurile în funcție de combustibilul mașinii"
   ]
  },
  {
   "cell_type": "code",
   "execution_count": 17,
   "id": "97ab07b1",
   "metadata": {},
   "outputs": [
    {
     "data": {
      "text/plain": [
       "(array([ 0,  1,  2,  3,  4,  5,  6,  7,  8,  9, 10, 11, 12, 13, 14, 15]),\n",
       " [Text(0, 0, '2003'),\n",
       "  Text(1, 0, '2004'),\n",
       "  Text(2, 0, '2005'),\n",
       "  Text(3, 0, '2006'),\n",
       "  Text(4, 0, '2007'),\n",
       "  Text(5, 0, '2008'),\n",
       "  Text(6, 0, '2009'),\n",
       "  Text(7, 0, '2010'),\n",
       "  Text(8, 0, '2011'),\n",
       "  Text(9, 0, '2012'),\n",
       "  Text(10, 0, '2013'),\n",
       "  Text(11, 0, '2014'),\n",
       "  Text(12, 0, '2015'),\n",
       "  Text(13, 0, '2016'),\n",
       "  Text(14, 0, '2017'),\n",
       "  Text(15, 0, '2018')])"
      ]
     },
     "execution_count": 17,
     "metadata": {},
     "output_type": "execute_result"
    },
    {
     "data": {
      "image/png": "[encoded data removed]",
      "text/plain": [
       "<Figure size 432x288 with 1 Axes>"
      ]
     },
     "metadata": {
      "needs_background": "light"
     },
     "output_type": "display_data"
    }
   ],
   "source": [
    "sns.barplot(x=df[\"year\"], y=df[\"selling_price\"], )\n",
    "plt.xticks(rotation=90)\n",
    "\n",
    "#In anul 2018, prețul mașinilor a crescut semnificativ"
   ]
  },
  {
   "cell_type": "code",
   "execution_count": 27,
   "id": "dc3e7eb1",
   "metadata": {},
   "outputs": [
    {
     "data": {
      "text/html": [
       "<div>\n",
       "<style scoped>\n",
       "    .dataframe tbody tr th:only-of-type {\n",
       "        vertical-align: middle;\n",
       "    }\n",
       "\n",
       "    .dataframe tbody tr th {\n",
       "        vertical-align: top;\n",
       "    }\n",
       "\n",
       "    .dataframe thead th {\n",
       "        text-align: right;\n",
       "    }\n",
       "</style>\n",
       "<table border=\"1\" class=\"dataframe\">\n",
       "  <thead>\n",
       "    <tr style=\"text-align: right;\">\n",
       "      <th></th>\n",
       "      <th>Selling_price_mediu</th>\n",
       "      <th>selling_price_min</th>\n",
       "      <th>selling_price_max</th>\n",
       "    </tr>\n",
       "    <tr>\n",
       "      <th>fuel</th>\n",
       "      <th></th>\n",
       "      <th></th>\n",
       "      <th></th>\n",
       "    </tr>\n",
       "  </thead>\n",
       "  <tbody>\n",
       "    <tr>\n",
       "      <th>CNG</th>\n",
       "      <td>3.100000</td>\n",
       "      <td>2.95</td>\n",
       "      <td>3.25</td>\n",
       "    </tr>\n",
       "    <tr>\n",
       "      <th>Diesel</th>\n",
       "      <td>10.278500</td>\n",
       "      <td>3.10</td>\n",
       "      <td>35.00</td>\n",
       "    </tr>\n",
       "    <tr>\n",
       "      <th>Petrol</th>\n",
       "      <td>3.264184</td>\n",
       "      <td>0.10</td>\n",
       "      <td>19.75</td>\n",
       "    </tr>\n",
       "  </tbody>\n",
       "</table>\n",
       "</div>"
      ],
      "text/plain": [
       "        Selling_price_mediu  selling_price_min  selling_price_max\n",
       "fuel                                                             \n",
       "CNG                3.100000               2.95               3.25\n",
       "Diesel            10.278500               3.10              35.00\n",
       "Petrol             3.264184               0.10              19.75"
      ]
     },
     "execution_count": 27,
     "metadata": {},
     "output_type": "execute_result"
    }
   ],
   "source": [
    "df.groupby(\"fuel\").agg(\n",
    "        Selling_price_mediu = (\"selling_price\", \"mean\"),\n",
    "  selling_price_min = (\"selling_price\", \"min\"),\n",
    "  selling_price_max = (\"selling_price\", \"max\"),\n",
    "  )\n",
    "\n",
    "\n",
    "#Media, minimul și maximul prețului de vânzare\n",
    "#Mașinile pe motorină au, în medie, cel mai mare preț    (prețurile fiind măsurate în moneda indiană, rupie indiană.Valorile afișate)\n",
    "#sunt minimizate cu 10.000."
   ]
  },
  {
   "cell_type": "code",
   "execution_count": 28,
   "id": "bb212db3",
   "metadata": {},
   "outputs": [
    {
     "name": "stdout",
     "output_type": "stream",
     "text": [
      "Media este:\n",
      "4.661295681063127\n"
     ]
    }
   ],
   "source": [
    "selling_price = pd.to_numeric(df['selling_price'])\n",
    "impute_value = selling_price.mean()\n",
    "print(\"Media este:\")\n",
    "print(impute_value)\n",
    "\n",
    "#Media prețurilor de vânzare"
   ]
  },
  {
   "cell_type": "code",
   "execution_count": 22,
   "id": "0aa7be8c",
   "metadata": {},
   "outputs": [
    {
     "data": {
      "text/html": [
       "<div>\n",
       "<style scoped>\n",
       "    .dataframe tbody tr th:only-of-type {\n",
       "        vertical-align: middle;\n",
       "    }\n",
       "\n",
       "    .dataframe tbody tr th {\n",
       "        vertical-align: top;\n",
       "    }\n",
       "\n",
       "    .dataframe thead th {\n",
       "        text-align: right;\n",
       "    }\n",
       "</style>\n",
       "<table border=\"1\" class=\"dataframe\">\n",
       "  <thead>\n",
       "    <tr style=\"text-align: right;\">\n",
       "      <th></th>\n",
       "      <th>selling_price_min</th>\n",
       "      <th>selling_price_max</th>\n",
       "    </tr>\n",
       "    <tr>\n",
       "      <th>owner</th>\n",
       "      <th></th>\n",
       "      <th></th>\n",
       "    </tr>\n",
       "  </thead>\n",
       "  <tbody>\n",
       "    <tr>\n",
       "      <th>0</th>\n",
       "      <td>0.10</td>\n",
       "      <td>35.00</td>\n",
       "    </tr>\n",
       "    <tr>\n",
       "      <th>1</th>\n",
       "      <td>0.15</td>\n",
       "      <td>5.25</td>\n",
       "    </tr>\n",
       "    <tr>\n",
       "      <th>3</th>\n",
       "      <td>2.50</td>\n",
       "      <td>2.50</td>\n",
       "    </tr>\n",
       "  </tbody>\n",
       "</table>\n",
       "</div>"
      ],
      "text/plain": [
       "       selling_price_min  selling_price_max\n",
       "owner                                      \n",
       "0                   0.10              35.00\n",
       "1                   0.15               5.25\n",
       "3                   2.50               2.50"
      ]
     },
     "execution_count": 22,
     "metadata": {},
     "output_type": "execute_result"
    }
   ],
   "source": [
    "df.groupby(\"owner\").agg(\n",
    "\n",
    "  selling_price_min = (\"selling_price\", \"min\"),\n",
    "  selling_price_max = (\"selling_price\", \"max\"))\n",
    "\n",
    "#Minimul și maximul prețului de vânzare în funcție de proprietar"
   ]
  },
  {
   "cell_type": "code",
   "execution_count": 29,
   "id": "66072dca",
   "metadata": {},
   "outputs": [
    {
     "name": "stderr",
     "output_type": "stream",
     "text": [
      "D:\\Anaconda\\lib\\site-packages\\seaborn\\distributions.py:2557: FutureWarning: `distplot` is a deprecated function and will be removed in a future version. Please adapt your code to use either `displot` (a figure-level function with similar flexibility) or `histplot` (an axes-level function for histograms).\n",
      "  warnings.warn(msg, FutureWarning)\n"
     ]
    },
    {
     "data": {
      "image/png": "[encoded data removed]",
      "text/plain": [
       "<Figure size 900x500 with 1 Axes>"
      ]
     },
     "metadata": {
      "needs_background": "light"
     },
     "output_type": "display_data"
    },
    {
     "name": "stderr",
     "output_type": "stream",
     "text": [
      "D:\\Anaconda\\lib\\site-packages\\seaborn\\distributions.py:2557: FutureWarning: `distplot` is a deprecated function and will be removed in a future version. Please adapt your code to use either `displot` (a figure-level function with similar flexibility) or `histplot` (an axes-level function for histograms).\n",
      "  warnings.warn(msg, FutureWarning)\n"
     ]
    },
    {
     "data": {
      "image/png": "[encoded data removed]",
      "text/plain": [
       "<Figure size 900x500 with 1 Axes>"
      ]
     },
     "metadata": {
      "needs_background": "light"
     },
     "output_type": "display_data"
    },
    {
     "name": "stderr",
     "output_type": "stream",
     "text": [
      "D:\\Anaconda\\lib\\site-packages\\seaborn\\distributions.py:2557: FutureWarning: `distplot` is a deprecated function and will be removed in a future version. Please adapt your code to use either `displot` (a figure-level function with similar flexibility) or `histplot` (an axes-level function for histograms).\n",
      "  warnings.warn(msg, FutureWarning)\n"
     ]
    },
    {
     "data": {
      "image/png": "[encoded data removed]",
      "text/plain": [
       "<Figure size 900x500 with 1 Axes>"
      ]
     },
     "metadata": {
      "needs_background": "light"
     },
     "output_type": "display_data"
    }
   ],
   "source": [
    "#Distributie(densitatea) in functie de pretul de vanzare, nr de kilometri si de prețul prezent.\n",
    "\n",
    "ls = ['selling_price' , 'km_driven', 'present_price']\n",
    "for i in ls:\n",
    "    plt.figure(dpi=100 ,figsize=(9 ,5))\n",
    "    plt.title( 'Distributie')\n",
    "    sns.distplot(x=df[i])\n",
    "    plt.xlabel(i)\n",
    "    plt.show()"
   ]
  },
  {
   "cell_type": "code",
   "execution_count": 23,
   "id": "38a14488",
   "metadata": {},
   "outputs": [
    {
     "data": {
      "text/plain": [
       "Car_Name         0\n",
       "year             0\n",
       "selling_price    0\n",
       "present_price    0\n",
       "km_driven        0\n",
       "fuel             0\n",
       "seller_type      0\n",
       "transmission     0\n",
       "owner            0\n",
       "dtype: int64"
      ]
     },
     "execution_count": 23,
     "metadata": {},
     "output_type": "execute_result"
    }
   ],
   "source": [
    "df.isnull().sum()\n",
    "\n",
    "#pentru a vedea daca exista valori nule\n",
    "#nu exista valori nule"
   ]
  },
  {
   "cell_type": "code",
   "execution_count": 26,
   "id": "816426d5",
   "metadata": {},
   "outputs": [
    {
     "name": "stdout",
     "output_type": "stream",
     "text": [
      "<class 'pandas.core.frame.DataFrame'>\n",
      "RangeIndex: 301 entries, 0 to 300\n",
      "Data columns (total 9 columns):\n",
      " #   Column         Non-Null Count  Dtype  \n",
      "---  ------         --------------  -----  \n",
      " 0   Car_Name       301 non-null    object \n",
      " 1   year           301 non-null    int64  \n",
      " 2   selling_price  301 non-null    float64\n",
      " 3   present_price  301 non-null    float64\n",
      " 4   km_driven      301 non-null    int64  \n",
      " 5   fuel           301 non-null    object \n",
      " 6   seller_type    301 non-null    object \n",
      " 7   transmission   301 non-null    object \n",
      " 8   owner          301 non-null    int64  \n",
      "dtypes: float64(2), int64(3), object(4)\n",
      "memory usage: 21.3+ KB\n"
     ]
    }
   ],
   "source": [
    "df.info()"
   ]
  },
  {
   "cell_type": "code",
   "execution_count": 28,
   "id": "c31eaab4",
   "metadata": {},
   "outputs": [
    {
     "name": "stdout",
     "output_type": "stream",
     "text": [
      "fuel\n",
      "['Petrol' 'Diesel' 'CNG']\n",
      " \n",
      "seller_type\n",
      "['Dealer' 'Individual']\n",
      " \n",
      "transmission\n",
      "['Manual' 'Automatic']\n",
      " \n"
     ]
    }
   ],
   "source": [
    "#variabile categoriale\n",
    "\n",
    "for col in ['fuel','seller_type','transmission']:\n",
    "    print(f'{col}')\n",
    "    print(df[col].unique())\n",
    "    print(\" \")"
   ]
  },
  {
   "cell_type": "code",
   "execution_count": 35,
   "id": "890d707f",
   "metadata": {},
   "outputs": [
    {
     "data": {
      "text/html": [
       "<div>\n",
       "<style scoped>\n",
       "    .dataframe tbody tr th:only-of-type {\n",
       "        vertical-align: middle;\n",
       "    }\n",
       "\n",
       "    .dataframe tbody tr th {\n",
       "        vertical-align: top;\n",
       "    }\n",
       "\n",
       "    .dataframe thead th {\n",
       "        text-align: right;\n",
       "    }\n",
       "</style>\n",
       "<table border=\"1\" class=\"dataframe\">\n",
       "  <thead>\n",
       "    <tr style=\"text-align: right;\">\n",
       "      <th></th>\n",
       "      <th>selling_price</th>\n",
       "      <th>present_price</th>\n",
       "      <th>km_driven</th>\n",
       "      <th>owner</th>\n",
       "      <th>fuel_CNG</th>\n",
       "      <th>fuel_Diesel</th>\n",
       "      <th>fuel_Petrol</th>\n",
       "      <th>seller_type_Dealer</th>\n",
       "      <th>seller_type_Individual</th>\n",
       "      <th>transmission_Automatic</th>\n",
       "      <th>transmission_Manual</th>\n",
       "      <th>age</th>\n",
       "    </tr>\n",
       "  </thead>\n",
       "  <tbody>\n",
       "    <tr>\n",
       "      <th>0</th>\n",
       "      <td>3.35</td>\n",
       "      <td>5.59</td>\n",
       "      <td>27000</td>\n",
       "      <td>0</td>\n",
       "      <td>0</td>\n",
       "      <td>0</td>\n",
       "      <td>1</td>\n",
       "      <td>1</td>\n",
       "      <td>0</td>\n",
       "      <td>0</td>\n",
       "      <td>1</td>\n",
       "      <td>6</td>\n",
       "    </tr>\n",
       "    <tr>\n",
       "      <th>1</th>\n",
       "      <td>4.75</td>\n",
       "      <td>9.54</td>\n",
       "      <td>43000</td>\n",
       "      <td>0</td>\n",
       "      <td>0</td>\n",
       "      <td>1</td>\n",
       "      <td>0</td>\n",
       "      <td>1</td>\n",
       "      <td>0</td>\n",
       "      <td>0</td>\n",
       "      <td>1</td>\n",
       "      <td>7</td>\n",
       "    </tr>\n",
       "    <tr>\n",
       "      <th>2</th>\n",
       "      <td>7.25</td>\n",
       "      <td>9.85</td>\n",
       "      <td>6900</td>\n",
       "      <td>0</td>\n",
       "      <td>0</td>\n",
       "      <td>0</td>\n",
       "      <td>1</td>\n",
       "      <td>1</td>\n",
       "      <td>0</td>\n",
       "      <td>0</td>\n",
       "      <td>1</td>\n",
       "      <td>3</td>\n",
       "    </tr>\n",
       "    <tr>\n",
       "      <th>3</th>\n",
       "      <td>2.85</td>\n",
       "      <td>4.15</td>\n",
       "      <td>5200</td>\n",
       "      <td>0</td>\n",
       "      <td>0</td>\n",
       "      <td>0</td>\n",
       "      <td>1</td>\n",
       "      <td>1</td>\n",
       "      <td>0</td>\n",
       "      <td>0</td>\n",
       "      <td>1</td>\n",
       "      <td>9</td>\n",
       "    </tr>\n",
       "    <tr>\n",
       "      <th>4</th>\n",
       "      <td>4.60</td>\n",
       "      <td>6.87</td>\n",
       "      <td>42450</td>\n",
       "      <td>0</td>\n",
       "      <td>0</td>\n",
       "      <td>1</td>\n",
       "      <td>0</td>\n",
       "      <td>1</td>\n",
       "      <td>0</td>\n",
       "      <td>0</td>\n",
       "      <td>1</td>\n",
       "      <td>6</td>\n",
       "    </tr>\n",
       "  </tbody>\n",
       "</table>\n",
       "</div>"
      ],
      "text/plain": [
       "   selling_price  present_price  km_driven  owner  fuel_CNG  fuel_Diesel  \\\n",
       "0           3.35           5.59      27000      0         0            0   \n",
       "1           4.75           9.54      43000      0         0            1   \n",
       "2           7.25           9.85       6900      0         0            0   \n",
       "3           2.85           4.15       5200      0         0            0   \n",
       "4           4.60           6.87      42450      0         0            1   \n",
       "\n",
       "   fuel_Petrol  seller_type_Dealer  seller_type_Individual  \\\n",
       "0            1                   1                       0   \n",
       "1            0                   1                       0   \n",
       "2            1                   1                       0   \n",
       "3            1                   1                       0   \n",
       "4            0                   1                       0   \n",
       "\n",
       "   transmission_Automatic  transmission_Manual  age  \n",
       "0                       0                    1    6  \n",
       "1                       0                    1    7  \n",
       "2                       0                    1    3  \n",
       "3                       0                    1    9  \n",
       "4                       0                    1    6  "
      ]
     },
     "execution_count": 35,
     "metadata": {},
     "output_type": "execute_result"
    }
   ],
   "source": [
    "#folosim dummies pentru a transforma variabilele categoriale\n",
    "col_binare = [col for col in df.columns if df[col].dtype in [\"O\"] and col != \"Car_Name\"]\n",
    "\n",
    "df = pd.get_dummies(df, columns=col_binare, drop_first=False)\n",
    "#prelucram coloana year pentru a afla varsta masinii\n",
    "\n",
    "df['age']=2020- df['year']\n",
    "#eliminam coloanele car name si year\n",
    "df.drop(['year', 'Car_Name'], axis=1, inplace= True)\n",
    "df.head()"
   ]
  },
  {
   "cell_type": "code",
   "execution_count": 150,
   "id": "ed176588",
   "metadata": {},
   "outputs": [
    {
     "name": "stdout",
     "output_type": "stream",
     "text": [
      "Quartilele împart scara prețurilor în 4 intervale egale\n",
      " \n",
      "Prima quartilă (Q1) delimitează cele mai mici 25% din date.\n",
      " \n",
      "A doua quartilă (Q2) delimitează cele mai mici 50% din date / împarte setul în două si este egală cu mediana.\n",
      " \n",
      "A patra quartilă (Q4) delimitează cele mai mari 25% din date.\n",
      " \n",
      "Valorile quartilelor:\n",
      " \n",
      "Q1  :  0.9\n",
      "Q2  :  3.6\n",
      "Q3:  6.0\n"
     ]
    }
   ],
   "source": [
    "print(\"Quartilele împart scara prețurilor în 4 intervale egale\")\n",
    "print(\" \");\n",
    "print(\"Prima quartilă (Q1) delimitează cele mai mici 25% din date.\")\n",
    "print(\" \");\n",
    "print(\"A doua quartilă (Q2) delimitează cele mai mici 50% din date / împarte setul în două si este egală cu mediana.\")\n",
    "print(\" \");\n",
    "print(\"A patra quartilă (Q4) delimitează cele mai mari 25% din date.\")\n",
    "print(\" \");\n",
    "print(\"Valorile quartilelor:\")\n",
    "print(\" \");\n",
    "\n",
    "\n",
    "print(\"Q1  : \", np.quantile(selling_price, .25)) \n",
    "\n",
    "\n",
    "print(\"Q2  : \", np.quantile(selling_price, .50)) \n",
    "print(\"Q3: \", np.quantile(selling_price, .75))"
   ]
  },
  {
   "cell_type": "code",
   "execution_count": 151,
   "id": "4210a15a",
   "metadata": {},
   "outputs": [
    {
     "name": "stdout",
     "output_type": "stream",
     "text": [
      "Mediana reprezintă acea valoare a unei serii ordonate crescător sau descrescător care împarte seria în două părți egale, așa încât 50% din termenii seriei au valori mai mici decât mediana, iar 50% mai mari decât mediana.\n",
      " \n",
      "Mediana  :  3.6\n"
     ]
    }
   ],
   "source": [
    "print(\"Mediana reprezintă acea valoare a unei serii ordonate crescător sau descrescător care împarte seria în două părți egale, așa încât 50% din termenii seriei au valori mai mici decât mediana, iar 50% mai mari decât mediana.\")\n",
    "print(\" \");\n",
    "print(\"Mediana  : \", np.median(selling_price))\n",
    "\n",
    "#Valoarea medianei corespunde valorii celei de-a doua quartile."
   ]
  },
  {
   "cell_type": "code",
   "execution_count": 55,
   "id": "fa9e2416",
   "metadata": {},
   "outputs": [
    {
     "name": "stdout",
     "output_type": "stream",
     "text": [
      "Deviatia standard a unui set de date permite estimarea uniformităţii valorilor acestuia, mai precis, cu cât valoarea acesteia este mai mică cu atât valorile setului sunt grupate în jurul valorii medii. Invers, cu cât deviatia standard este mai mare, cu atât valorile setului sunt mai depărtate faţă de valoarea medie.\n",
      " \n",
      "Valoare:\n",
      "5.074361323307891\n"
     ]
    }
   ],
   "source": [
    "#DEVIATIA STANDARD\n",
    "print(\"Deviatia standard a unui set de date permite estimarea uniformităţii valorilor acestuia, mai precis, cu cât valoarea acesteia este mai mică cu atât valorile setului sunt grupate în jurul valorii medii. Invers, cu cât deviatia standard este mai mare, cu atât valorile setului sunt mai depărtate faţă de valoarea medie.\")\n",
    "print(\" \")\n",
    "\n",
    "print(\"Valoare:\")\n",
    "print(np.std(selling_price))"
   ]
  },
  {
   "cell_type": "code",
   "execution_count": 152,
   "id": "0026b471",
   "metadata": {},
   "outputs": [
    {
     "data": {
      "text/html": [
       "<div>\n",
       "<style scoped>\n",
       "    .dataframe tbody tr th:only-of-type {\n",
       "        vertical-align: middle;\n",
       "    }\n",
       "\n",
       "    .dataframe tbody tr th {\n",
       "        vertical-align: top;\n",
       "    }\n",
       "\n",
       "    .dataframe thead th {\n",
       "        text-align: right;\n",
       "    }\n",
       "</style>\n",
       "<table border=\"1\" class=\"dataframe\">\n",
       "  <thead>\n",
       "    <tr style=\"text-align: right;\">\n",
       "      <th></th>\n",
       "      <th>selling_price</th>\n",
       "      <th>present_price</th>\n",
       "      <th>km_driven</th>\n",
       "      <th>owner</th>\n",
       "      <th>fuel_CNG</th>\n",
       "      <th>fuel_Diesel</th>\n",
       "      <th>fuel_Petrol</th>\n",
       "      <th>seller_type_Dealer</th>\n",
       "      <th>seller_type_Individual</th>\n",
       "      <th>transmission_Automatic</th>\n",
       "      <th>transmission_Manual</th>\n",
       "      <th>age</th>\n",
       "    </tr>\n",
       "  </thead>\n",
       "  <tbody>\n",
       "    <tr>\n",
       "      <th>selling_price</th>\n",
       "      <td>1.000000</td>\n",
       "      <td>0.878983</td>\n",
       "      <td>0.029187</td>\n",
       "      <td>-0.088344</td>\n",
       "      <td>-0.025164</td>\n",
       "      <td>0.552339</td>\n",
       "      <td>-0.540571</td>\n",
       "      <td>0.550724</td>\n",
       "      <td>-0.550724</td>\n",
       "      <td>0.367128</td>\n",
       "      <td>-0.367128</td>\n",
       "      <td>-0.236141</td>\n",
       "    </tr>\n",
       "    <tr>\n",
       "      <th>present_price</th>\n",
       "      <td>0.878983</td>\n",
       "      <td>1.000000</td>\n",
       "      <td>0.203647</td>\n",
       "      <td>0.008057</td>\n",
       "      <td>-0.011500</td>\n",
       "      <td>0.473306</td>\n",
       "      <td>-0.465244</td>\n",
       "      <td>0.512030</td>\n",
       "      <td>-0.512030</td>\n",
       "      <td>0.348715</td>\n",
       "      <td>-0.348715</td>\n",
       "      <td>0.047584</td>\n",
       "    </tr>\n",
       "    <tr>\n",
       "      <th>km_driven</th>\n",
       "      <td>0.029187</td>\n",
       "      <td>0.203647</td>\n",
       "      <td>1.000000</td>\n",
       "      <td>0.089216</td>\n",
       "      <td>0.012223</td>\n",
       "      <td>0.172515</td>\n",
       "      <td>-0.172874</td>\n",
       "      <td>0.101419</td>\n",
       "      <td>-0.101419</td>\n",
       "      <td>0.162510</td>\n",
       "      <td>-0.162510</td>\n",
       "      <td>0.524342</td>\n",
       "    </tr>\n",
       "    <tr>\n",
       "      <th>owner</th>\n",
       "      <td>-0.088344</td>\n",
       "      <td>0.008057</td>\n",
       "      <td>0.089216</td>\n",
       "      <td>1.000000</td>\n",
       "      <td>-0.014272</td>\n",
       "      <td>-0.053469</td>\n",
       "      <td>0.055687</td>\n",
       "      <td>-0.124269</td>\n",
       "      <td>0.124269</td>\n",
       "      <td>0.050316</td>\n",
       "      <td>-0.050316</td>\n",
       "      <td>0.182104</td>\n",
       "    </tr>\n",
       "    <tr>\n",
       "      <th>fuel_CNG</th>\n",
       "      <td>-0.025164</td>\n",
       "      <td>-0.011500</td>\n",
       "      <td>0.012223</td>\n",
       "      <td>-0.014272</td>\n",
       "      <td>1.000000</td>\n",
       "      <td>-0.040808</td>\n",
       "      <td>-0.160577</td>\n",
       "      <td>0.060300</td>\n",
       "      <td>-0.060300</td>\n",
       "      <td>-0.032018</td>\n",
       "      <td>0.032018</td>\n",
       "      <td>0.017790</td>\n",
       "    </tr>\n",
       "    <tr>\n",
       "      <th>fuel_Diesel</th>\n",
       "      <td>0.552339</td>\n",
       "      <td>0.473306</td>\n",
       "      <td>0.172515</td>\n",
       "      <td>-0.053469</td>\n",
       "      <td>-0.040808</td>\n",
       "      <td>1.000000</td>\n",
       "      <td>-0.979648</td>\n",
       "      <td>0.350467</td>\n",
       "      <td>-0.350467</td>\n",
       "      <td>0.098643</td>\n",
       "      <td>-0.098643</td>\n",
       "      <td>-0.064315</td>\n",
       "    </tr>\n",
       "    <tr>\n",
       "      <th>fuel_Petrol</th>\n",
       "      <td>-0.540571</td>\n",
       "      <td>-0.465244</td>\n",
       "      <td>-0.172874</td>\n",
       "      <td>0.055687</td>\n",
       "      <td>-0.160577</td>\n",
       "      <td>-0.979648</td>\n",
       "      <td>1.000000</td>\n",
       "      <td>-0.358321</td>\n",
       "      <td>0.358321</td>\n",
       "      <td>-0.091013</td>\n",
       "      <td>0.091013</td>\n",
       "      <td>0.059959</td>\n",
       "    </tr>\n",
       "    <tr>\n",
       "      <th>seller_type_Dealer</th>\n",
       "      <td>0.550724</td>\n",
       "      <td>0.512030</td>\n",
       "      <td>0.101419</td>\n",
       "      <td>-0.124269</td>\n",
       "      <td>0.060300</td>\n",
       "      <td>0.350467</td>\n",
       "      <td>-0.358321</td>\n",
       "      <td>1.000000</td>\n",
       "      <td>-1.000000</td>\n",
       "      <td>0.063240</td>\n",
       "      <td>-0.063240</td>\n",
       "      <td>-0.039896</td>\n",
       "    </tr>\n",
       "    <tr>\n",
       "      <th>seller_type_Individual</th>\n",
       "      <td>-0.550724</td>\n",
       "      <td>-0.512030</td>\n",
       "      <td>-0.101419</td>\n",
       "      <td>0.124269</td>\n",
       "      <td>-0.060300</td>\n",
       "      <td>-0.350467</td>\n",
       "      <td>0.358321</td>\n",
       "      <td>-1.000000</td>\n",
       "      <td>1.000000</td>\n",
       "      <td>-0.063240</td>\n",
       "      <td>0.063240</td>\n",
       "      <td>0.039896</td>\n",
       "    </tr>\n",
       "    <tr>\n",
       "      <th>transmission_Automatic</th>\n",
       "      <td>0.367128</td>\n",
       "      <td>0.348715</td>\n",
       "      <td>0.162510</td>\n",
       "      <td>0.050316</td>\n",
       "      <td>-0.032018</td>\n",
       "      <td>0.098643</td>\n",
       "      <td>-0.091013</td>\n",
       "      <td>0.063240</td>\n",
       "      <td>-0.063240</td>\n",
       "      <td>1.000000</td>\n",
       "      <td>-1.000000</td>\n",
       "      <td>0.000394</td>\n",
       "    </tr>\n",
       "    <tr>\n",
       "      <th>transmission_Manual</th>\n",
       "      <td>-0.367128</td>\n",
       "      <td>-0.348715</td>\n",
       "      <td>-0.162510</td>\n",
       "      <td>-0.050316</td>\n",
       "      <td>0.032018</td>\n",
       "      <td>-0.098643</td>\n",
       "      <td>0.091013</td>\n",
       "      <td>-0.063240</td>\n",
       "      <td>0.063240</td>\n",
       "      <td>-1.000000</td>\n",
       "      <td>1.000000</td>\n",
       "      <td>-0.000394</td>\n",
       "    </tr>\n",
       "    <tr>\n",
       "      <th>age</th>\n",
       "      <td>-0.236141</td>\n",
       "      <td>0.047584</td>\n",
       "      <td>0.524342</td>\n",
       "      <td>0.182104</td>\n",
       "      <td>0.017790</td>\n",
       "      <td>-0.064315</td>\n",
       "      <td>0.059959</td>\n",
       "      <td>-0.039896</td>\n",
       "      <td>0.039896</td>\n",
       "      <td>0.000394</td>\n",
       "      <td>-0.000394</td>\n",
       "      <td>1.000000</td>\n",
       "    </tr>\n",
       "  </tbody>\n",
       "</table>\n",
       "</div>"
      ],
      "text/plain": [
       "                        selling_price  present_price  km_driven     owner  \\\n",
       "selling_price                1.000000       0.878983   0.029187 -0.088344   \n",
       "present_price                0.878983       1.000000   0.203647  0.008057   \n",
       "km_driven                    0.029187       0.203647   1.000000  0.089216   \n",
       "owner                       -0.088344       0.008057   0.089216  1.000000   \n",
       "fuel_CNG                    -0.025164      -0.011500   0.012223 -0.014272   \n",
       "fuel_Diesel                  0.552339       0.473306   0.172515 -0.053469   \n",
       "fuel_Petrol                 -0.540571      -0.465244  -0.172874  0.055687   \n",
       "seller_type_Dealer           0.550724       0.512030   0.101419 -0.124269   \n",
       "seller_type_Individual      -0.550724      -0.512030  -0.101419  0.124269   \n",
       "transmission_Automatic       0.367128       0.348715   0.162510  0.050316   \n",
       "transmission_Manual         -0.367128      -0.348715  -0.162510 -0.050316   \n",
       "age                         -0.236141       0.047584   0.524342  0.182104   \n",
       "\n",
       "                        fuel_CNG  fuel_Diesel  fuel_Petrol  \\\n",
       "selling_price          -0.025164     0.552339    -0.540571   \n",
       "present_price          -0.011500     0.473306    -0.465244   \n",
       "km_driven               0.012223     0.172515    -0.172874   \n",
       "owner                  -0.014272    -0.053469     0.055687   \n",
       "fuel_CNG                1.000000    -0.040808    -0.160577   \n",
       "fuel_Diesel            -0.040808     1.000000    -0.979648   \n",
       "fuel_Petrol            -0.160577    -0.979648     1.000000   \n",
       "seller_type_Dealer      0.060300     0.350467    -0.358321   \n",
       "seller_type_Individual -0.060300    -0.350467     0.358321   \n",
       "transmission_Automatic -0.032018     0.098643    -0.091013   \n",
       "transmission_Manual     0.032018    -0.098643     0.091013   \n",
       "age                     0.017790    -0.064315     0.059959   \n",
       "\n",
       "                        seller_type_Dealer  seller_type_Individual  \\\n",
       "selling_price                     0.550724               -0.550724   \n",
       "present_price                     0.512030               -0.512030   \n",
       "km_driven                         0.101419               -0.101419   \n",
       "owner                            -0.124269                0.124269   \n",
       "fuel_CNG                          0.060300               -0.060300   \n",
       "fuel_Diesel                       0.350467               -0.350467   \n",
       "fuel_Petrol                      -0.358321                0.358321   \n",
       "seller_type_Dealer                1.000000               -1.000000   \n",
       "seller_type_Individual           -1.000000                1.000000   \n",
       "transmission_Automatic            0.063240               -0.063240   \n",
       "transmission_Manual              -0.063240                0.063240   \n",
       "age                              -0.039896                0.039896   \n",
       "\n",
       "                        transmission_Automatic  transmission_Manual       age  \n",
       "selling_price                         0.367128            -0.367128 -0.236141  \n",
       "present_price                         0.348715            -0.348715  0.047584  \n",
       "km_driven                             0.162510            -0.162510  0.524342  \n",
       "owner                                 0.050316            -0.050316  0.182104  \n",
       "fuel_CNG                             -0.032018             0.032018  0.017790  \n",
       "fuel_Diesel                           0.098643            -0.098643 -0.064315  \n",
       "fuel_Petrol                          -0.091013             0.091013  0.059959  \n",
       "seller_type_Dealer                    0.063240            -0.063240 -0.039896  \n",
       "seller_type_Individual               -0.063240             0.063240  0.039896  \n",
       "transmission_Automatic                1.000000            -1.000000  0.000394  \n",
       "transmission_Manual                  -1.000000             1.000000 -0.000394  \n",
       "age                                   0.000394            -0.000394  1.000000  "
      ]
     },
     "execution_count": 152,
     "metadata": {},
     "output_type": "execute_result"
    }
   ],
   "source": [
    "df.corr()"
   ]
  },
  {
   "cell_type": "code",
   "execution_count": 153,
   "id": "acf0b9a7",
   "metadata": {},
   "outputs": [
    {
     "data": {
      "text/plain": [
       "<AxesSubplot:>"
      ]
     },
     "execution_count": 153,
     "metadata": {},
     "output_type": "execute_result"
    },
    {
     "data": {
      "image/png": "[encoded data removed]",
      "text/plain": [
       "<Figure size 792x648 with 2 Axes>"
      ]
     },
     "metadata": {},
     "output_type": "display_data"
    }
   ],
   "source": [
    "sns.set_theme(style=\"white\")\n",
    "rs = np.random.RandomState(33)\n",
    "d = pd.DataFrame(data=rs.normal(size=(100, 12)),\n",
    "                 columns=list(df))\n",
    "corr = d.corr()\n",
    "mask = np.triu(np.ones_like(corr, dtype=bool))\n",
    "f, ax = plt.subplots(figsize=(11, 9))\n",
    "cmap = sns.diverging_palette(230, 20, as_cmap=True)\n",
    "sns.heatmap(corr, mask=mask, cmap=cmap, vmax=.3, center=0,\n",
    "            square=True, linewidths=.5, cbar_kws={\"shrink\": .5})\n",
    "\n",
    "#Cele mai mari corelații existente sunt între present price și selling price , fuel_Diesel și selling price, seller_type_dealer și \n",
    "#selling price, age și selling price (invers proporțională)"
   ]
  },
  {
   "cell_type": "code",
   "execution_count": 36,
   "id": "08ba598e",
   "metadata": {},
   "outputs": [
    {
     "data": {
      "text/html": [
       "<div>\n",
       "<style scoped>\n",
       "    .dataframe tbody tr th:only-of-type {\n",
       "        vertical-align: middle;\n",
       "    }\n",
       "\n",
       "    .dataframe tbody tr th {\n",
       "        vertical-align: top;\n",
       "    }\n",
       "\n",
       "    .dataframe thead th {\n",
       "        text-align: right;\n",
       "    }\n",
       "</style>\n",
       "<table border=\"1\" class=\"dataframe\">\n",
       "  <thead>\n",
       "    <tr style=\"text-align: right;\">\n",
       "      <th></th>\n",
       "      <th>present_price</th>\n",
       "      <th>km_driven</th>\n",
       "      <th>owner</th>\n",
       "      <th>fuel_CNG</th>\n",
       "      <th>fuel_Diesel</th>\n",
       "      <th>fuel_Petrol</th>\n",
       "      <th>seller_type_Dealer</th>\n",
       "      <th>seller_type_Individual</th>\n",
       "      <th>transmission_Automatic</th>\n",
       "      <th>transmission_Manual</th>\n",
       "      <th>age</th>\n",
       "    </tr>\n",
       "  </thead>\n",
       "  <tbody>\n",
       "    <tr>\n",
       "      <th>0</th>\n",
       "      <td>5.59</td>\n",
       "      <td>27000</td>\n",
       "      <td>0</td>\n",
       "      <td>0</td>\n",
       "      <td>0</td>\n",
       "      <td>1</td>\n",
       "      <td>1</td>\n",
       "      <td>0</td>\n",
       "      <td>0</td>\n",
       "      <td>1</td>\n",
       "      <td>6</td>\n",
       "    </tr>\n",
       "    <tr>\n",
       "      <th>1</th>\n",
       "      <td>9.54</td>\n",
       "      <td>43000</td>\n",
       "      <td>0</td>\n",
       "      <td>0</td>\n",
       "      <td>1</td>\n",
       "      <td>0</td>\n",
       "      <td>1</td>\n",
       "      <td>0</td>\n",
       "      <td>0</td>\n",
       "      <td>1</td>\n",
       "      <td>7</td>\n",
       "    </tr>\n",
       "    <tr>\n",
       "      <th>2</th>\n",
       "      <td>9.85</td>\n",
       "      <td>6900</td>\n",
       "      <td>0</td>\n",
       "      <td>0</td>\n",
       "      <td>0</td>\n",
       "      <td>1</td>\n",
       "      <td>1</td>\n",
       "      <td>0</td>\n",
       "      <td>0</td>\n",
       "      <td>1</td>\n",
       "      <td>3</td>\n",
       "    </tr>\n",
       "    <tr>\n",
       "      <th>3</th>\n",
       "      <td>4.15</td>\n",
       "      <td>5200</td>\n",
       "      <td>0</td>\n",
       "      <td>0</td>\n",
       "      <td>0</td>\n",
       "      <td>1</td>\n",
       "      <td>1</td>\n",
       "      <td>0</td>\n",
       "      <td>0</td>\n",
       "      <td>1</td>\n",
       "      <td>9</td>\n",
       "    </tr>\n",
       "    <tr>\n",
       "      <th>4</th>\n",
       "      <td>6.87</td>\n",
       "      <td>42450</td>\n",
       "      <td>0</td>\n",
       "      <td>0</td>\n",
       "      <td>1</td>\n",
       "      <td>0</td>\n",
       "      <td>1</td>\n",
       "      <td>0</td>\n",
       "      <td>0</td>\n",
       "      <td>1</td>\n",
       "      <td>6</td>\n",
       "    </tr>\n",
       "  </tbody>\n",
       "</table>\n",
       "</div>"
      ],
      "text/plain": [
       "   present_price  km_driven  owner  fuel_CNG  fuel_Diesel  fuel_Petrol  \\\n",
       "0           5.59      27000      0         0            0            1   \n",
       "1           9.54      43000      0         0            1            0   \n",
       "2           9.85       6900      0         0            0            1   \n",
       "3           4.15       5200      0         0            0            1   \n",
       "4           6.87      42450      0         0            1            0   \n",
       "\n",
       "   seller_type_Dealer  seller_type_Individual  transmission_Automatic  \\\n",
       "0                   1                       0                       0   \n",
       "1                   1                       0                       0   \n",
       "2                   1                       0                       0   \n",
       "3                   1                       0                       0   \n",
       "4                   1                       0                       0   \n",
       "\n",
       "   transmission_Manual  age  \n",
       "0                    1    6  \n",
       "1                    1    7  \n",
       "2                    1    3  \n",
       "3                    1    9  \n",
       "4                    1    6  "
      ]
     },
     "execution_count": 36,
     "metadata": {},
     "output_type": "execute_result"
    }
   ],
   "source": [
    "x=df.drop(['selling_price'],axis=1)\n",
    "x.head()\n",
    "\n",
    "#Eliminarea atributului selling_price (deoarece acesta urmează să fie prezis)"
   ]
  },
  {
   "cell_type": "code",
   "execution_count": 37,
   "id": "64dc5eda",
   "metadata": {},
   "outputs": [
    {
     "data": {
      "text/plain": [
       "0    3.35\n",
       "1    4.75\n",
       "2    7.25\n",
       "3    2.85\n",
       "4    4.60\n",
       "Name: selling_price, dtype: float64"
      ]
     },
     "execution_count": 37,
     "metadata": {},
     "output_type": "execute_result"
    }
   ],
   "source": [
    "y=df['selling_price']\n",
    "y.head()\n"
   ]
  },
  {
   "cell_type": "code",
   "execution_count": 38,
   "id": "ce81e7cf",
   "metadata": {},
   "outputs": [
    {
     "name": "stderr",
     "output_type": "stream",
     "text": [
      "D:\\Anaconda\\lib\\site-packages\\seaborn\\_decorators.py:36: FutureWarning: Pass the following variables as keyword args: x, y. From version 0.12, the only valid positional argument will be `data`, and passing other arguments without an explicit keyword will result in an error or misinterpretation.\n",
      "  warnings.warn(\n"
     ]
    },
    {
     "data": {
      "text/plain": [
       "<AxesSubplot:>"
      ]
     },
     "execution_count": 38,
     "metadata": {},
     "output_type": "execute_result"
    },
    {
     "data": {
      "image/png": "[encoded data removed]",
      "text/plain": [
       "<Figure size 720x432 with 1 Axes>"
      ]
     },
     "metadata": {
      "needs_background": "light"
     },
     "output_type": "display_data"
    }
   ],
   "source": [
    "\n",
    "from sklearn.ensemble import ExtraTreesRegressor\n",
    "ec= ExtraTreesRegressor()\n",
    "ec.fit(x,y)\n",
    "ExtraTreesRegressor()\n",
    "fig= plt.subplots(figsize=(10,6))\n",
    "imp= pd.Series(ec.feature_importances_, index=x.columns)\n",
    "sns.barplot(imp, imp.index)\n",
    "\n",
    "\n",
    "#Importanța variabilelor\n",
    "#Cele mai importante atribute sunt present_price, fuel_Diesel si seller_type_Dealer"
   ]
  },
  {
   "cell_type": "code",
   "execution_count": 39,
   "id": "652cfef0",
   "metadata": {},
   "outputs": [
    {
     "data": {
      "text/html": [
       "<div>\n",
       "<style scoped>\n",
       "    .dataframe tbody tr th:only-of-type {\n",
       "        vertical-align: middle;\n",
       "    }\n",
       "\n",
       "    .dataframe tbody tr th {\n",
       "        vertical-align: top;\n",
       "    }\n",
       "\n",
       "    .dataframe thead th {\n",
       "        text-align: right;\n",
       "    }\n",
       "</style>\n",
       "<table border=\"1\" class=\"dataframe\">\n",
       "  <thead>\n",
       "    <tr style=\"text-align: right;\">\n",
       "      <th></th>\n",
       "      <th>selling_price</th>\n",
       "      <th>present_price</th>\n",
       "      <th>km_driven</th>\n",
       "      <th>owner</th>\n",
       "      <th>fuel_CNG</th>\n",
       "      <th>fuel_Diesel</th>\n",
       "      <th>fuel_Petrol</th>\n",
       "      <th>seller_type_Dealer</th>\n",
       "      <th>seller_type_Individual</th>\n",
       "      <th>transmission_Automatic</th>\n",
       "      <th>transmission_Manual</th>\n",
       "      <th>age</th>\n",
       "    </tr>\n",
       "  </thead>\n",
       "  <tbody>\n",
       "    <tr>\n",
       "      <th>0</th>\n",
       "      <td>3.35</td>\n",
       "      <td>5.59</td>\n",
       "      <td>27000</td>\n",
       "      <td>0</td>\n",
       "      <td>0</td>\n",
       "      <td>0</td>\n",
       "      <td>1</td>\n",
       "      <td>1</td>\n",
       "      <td>0</td>\n",
       "      <td>0</td>\n",
       "      <td>1</td>\n",
       "      <td>6</td>\n",
       "    </tr>\n",
       "    <tr>\n",
       "      <th>1</th>\n",
       "      <td>4.75</td>\n",
       "      <td>9.54</td>\n",
       "      <td>43000</td>\n",
       "      <td>0</td>\n",
       "      <td>0</td>\n",
       "      <td>1</td>\n",
       "      <td>0</td>\n",
       "      <td>1</td>\n",
       "      <td>0</td>\n",
       "      <td>0</td>\n",
       "      <td>1</td>\n",
       "      <td>7</td>\n",
       "    </tr>\n",
       "    <tr>\n",
       "      <th>2</th>\n",
       "      <td>7.25</td>\n",
       "      <td>9.85</td>\n",
       "      <td>6900</td>\n",
       "      <td>0</td>\n",
       "      <td>0</td>\n",
       "      <td>0</td>\n",
       "      <td>1</td>\n",
       "      <td>1</td>\n",
       "      <td>0</td>\n",
       "      <td>0</td>\n",
       "      <td>1</td>\n",
       "      <td>3</td>\n",
       "    </tr>\n",
       "    <tr>\n",
       "      <th>3</th>\n",
       "      <td>2.85</td>\n",
       "      <td>4.15</td>\n",
       "      <td>5200</td>\n",
       "      <td>0</td>\n",
       "      <td>0</td>\n",
       "      <td>0</td>\n",
       "      <td>1</td>\n",
       "      <td>1</td>\n",
       "      <td>0</td>\n",
       "      <td>0</td>\n",
       "      <td>1</td>\n",
       "      <td>9</td>\n",
       "    </tr>\n",
       "    <tr>\n",
       "      <th>4</th>\n",
       "      <td>4.60</td>\n",
       "      <td>6.87</td>\n",
       "      <td>42450</td>\n",
       "      <td>0</td>\n",
       "      <td>0</td>\n",
       "      <td>1</td>\n",
       "      <td>0</td>\n",
       "      <td>1</td>\n",
       "      <td>0</td>\n",
       "      <td>0</td>\n",
       "      <td>1</td>\n",
       "      <td>6</td>\n",
       "    </tr>\n",
       "  </tbody>\n",
       "</table>\n",
       "</div>"
      ],
      "text/plain": [
       "   selling_price  present_price  km_driven  owner  fuel_CNG  fuel_Diesel  \\\n",
       "0           3.35           5.59      27000      0         0            0   \n",
       "1           4.75           9.54      43000      0         0            1   \n",
       "2           7.25           9.85       6900      0         0            0   \n",
       "3           2.85           4.15       5200      0         0            0   \n",
       "4           4.60           6.87      42450      0         0            1   \n",
       "\n",
       "   fuel_Petrol  seller_type_Dealer  seller_type_Individual  \\\n",
       "0            1                   1                       0   \n",
       "1            0                   1                       0   \n",
       "2            1                   1                       0   \n",
       "3            1                   1                       0   \n",
       "4            0                   1                       0   \n",
       "\n",
       "   transmission_Automatic  transmission_Manual  age  \n",
       "0                       0                    1    6  \n",
       "1                       0                    1    7  \n",
       "2                       0                    1    3  \n",
       "3                       0                    1    9  \n",
       "4                       0                    1    6  "
      ]
     },
     "execution_count": 39,
     "metadata": {},
     "output_type": "execute_result"
    }
   ],
   "source": [
    "df.head()"
   ]
  },
  {
   "cell_type": "code",
   "execution_count": 40,
   "id": "888b12e8",
   "metadata": {},
   "outputs": [],
   "source": [
    "from sklearn.tree import DecisionTreeRegressor\n",
    "from sklearn.ensemble import RandomForestRegressor\n",
    "from sklearn.model_selection import train_test_split\n",
    "\n",
    "x_train, x_test, y_train, y_test = train_test_split(x, y, test_size=0.20, random_state=0)\n",
    "lr= LinearRegression()\n",
    "lr.fit(x_train,y_train)\n",
    "y_pred=lr.predict(x_test)"
   ]
  },
  {
   "cell_type": "code",
   "execution_count": 41,
   "id": "67616fb0",
   "metadata": {},
   "outputs": [],
   "source": [
    "algos= {\n",
    "        'Decision Tree Regressor' : {'model' : DecisionTreeRegressor(),\n",
    "                                    'para' : {'criterion': ['mse', 'mae', 'friedman_mse'],\n",
    "                                             'splitter': ['best', 'random'],'min_samples_split':[2,5,10,7]}\n",
    "                                    },\n",
    "        'Random Forest Regressor' : {'model' : RandomForestRegressor(),\n",
    "                                     'para' :{'criterion' : ['mse', 'mae'],'max_depth' : [1,2,5,7],\n",
    "                                              'n_estimators':[10,25,50,100,200,250,400,500],\n",
    "                                              'max_features': ['auto', 'sqrt', 'log2']}\n",
    "                                    }\n",
    "        }\n",
    "#Regresie cu random forest"
   ]
  },
  {
   "cell_type": "code",
   "execution_count": 42,
   "id": "589e00f1",
   "metadata": {},
   "outputs": [],
   "source": [
    "result=[]\n",
    "from sklearn.model_selection import RandomizedSearchCV\n",
    "for algo, param in algos.items():\n",
    "    rs=  RandomizedSearchCV(param['model'], param['para'], n_iter= 5, cv=3, scoring='neg_mean_squared_error')\n",
    "    rs.fit(x_train,y_train)\n",
    "    ypred= rs.predict(x_test)\n",
    "    result.append(pd.Series({'model': algo,\n",
    "                            'score': rs.best_score_, \n",
    "                            'parameter': rs.best_params_}))"
   ]
  },
  {
   "cell_type": "code",
   "execution_count": 43,
   "id": "4f491e4f",
   "metadata": {},
   "outputs": [
    {
     "data": {
      "text/html": [
       "<div>\n",
       "<style scoped>\n",
       "    .dataframe tbody tr th:only-of-type {\n",
       "        vertical-align: middle;\n",
       "    }\n",
       "\n",
       "    .dataframe tbody tr th {\n",
       "        vertical-align: top;\n",
       "    }\n",
       "\n",
       "    .dataframe thead th {\n",
       "        text-align: right;\n",
       "    }\n",
       "</style>\n",
       "<table border=\"1\" class=\"dataframe\">\n",
       "  <thead>\n",
       "    <tr style=\"text-align: right;\">\n",
       "      <th></th>\n",
       "      <th>score</th>\n",
       "      <th>parameter</th>\n",
       "    </tr>\n",
       "    <tr>\n",
       "      <th>model</th>\n",
       "      <th></th>\n",
       "      <th></th>\n",
       "    </tr>\n",
       "  </thead>\n",
       "  <tbody>\n",
       "    <tr>\n",
       "      <th>Decision Tree Regressor</th>\n",
       "      <td>-4.099944</td>\n",
       "      <td>{'splitter': 'best', 'min_samples_split': 7, 'criterion': 'mse'}</td>\n",
       "    </tr>\n",
       "    <tr>\n",
       "      <th>Random Forest Regressor</th>\n",
       "      <td>-4.799884</td>\n",
       "      <td>{'n_estimators': 200, 'max_features': 'sqrt', 'max_depth': 7, 'criterion': 'mse'}</td>\n",
       "    </tr>\n",
       "  </tbody>\n",
       "</table>\n",
       "</div>"
      ],
      "text/plain": [
       "                            score  \\\n",
       "model                               \n",
       "Decision Tree Regressor -4.099944   \n",
       "Random Forest Regressor -4.799884   \n",
       "\n",
       "                                                                                                 parameter  \n",
       "model                                                                                                       \n",
       "Decision Tree Regressor                   {'splitter': 'best', 'min_samples_split': 7, 'criterion': 'mse'}  \n",
       "Random Forest Regressor  {'n_estimators': 200, 'max_features': 'sqrt', 'max_depth': 7, 'criterion': 'mse'}  "
      ]
     },
     "execution_count": 43,
     "metadata": {},
     "output_type": "execute_result"
    }
   ],
   "source": [
    "pd.options.display.max_colwidth=100\n",
    "results = pd.concat(result, axis= 1).T.set_index('model')\n",
    "results"
   ]
  },
  {
   "cell_type": "code",
   "execution_count": 44,
   "id": "8e8f4b8c",
   "metadata": {},
   "outputs": [],
   "source": [
    "rf2= RandomForestRegressor(n_estimators= 500, max_features= 'auto', max_depth= 7, criterion= 'mse')\n",
    "rf2.fit(x_train, y_train)\n",
    "ypred2= rf2.predict(x_test)"
   ]
  },
  {
   "cell_type": "code",
   "execution_count": 45,
   "id": "6820e65e",
   "metadata": {},
   "outputs": [
    {
     "name": "stderr",
     "output_type": "stream",
     "text": [
      "D:\\Anaconda\\lib\\site-packages\\seaborn\\distributions.py:2557: FutureWarning: `distplot` is a deprecated function and will be removed in a future version. Please adapt your code to use either `displot` (a figure-level function with similar flexibility) or `histplot` (an axes-level function for histograms).\n",
      "  warnings.warn(msg, FutureWarning)\n"
     ]
    },
    {
     "data": {
      "text/plain": [
       "<AxesSubplot:xlabel='selling_price', ylabel='Density'>"
      ]
     },
     "execution_count": 45,
     "metadata": {},
     "output_type": "execute_result"
    },
    {
     "data": {
      "image/png": "[encoded data removed]",
      "text/plain": [
       "<Figure size 432x288 with 1 Axes>"
      ]
     },
     "metadata": {
      "needs_background": "light"
     },
     "output_type": "display_data"
    }
   ],
   "source": [
    "sns.distplot(y_test-ypred2)"
   ]
  },
  {
   "cell_type": "code",
   "execution_count": 46,
   "id": "32a54413",
   "metadata": {},
   "outputs": [
    {
     "data": {
      "text/plain": [
       "<matplotlib.collections.PathCollection at 0x1632f9e9f70>"
      ]
     },
     "execution_count": 46,
     "metadata": {},
     "output_type": "execute_result"
    },
    {
     "data": {
      "image/png": "[encoded data removed]",
      "text/plain": [
       "<Figure size 432x288 with 1 Axes>"
      ]
     },
     "metadata": {
      "needs_background": "light"
     },
     "output_type": "display_data"
    }
   ],
   "source": [
    "plt.scatter(y_test, ypred2)"
   ]
  },
  {
   "cell_type": "code",
   "execution_count": 47,
   "id": "43faacab",
   "metadata": {},
   "outputs": [
    {
     "name": "stdout",
     "output_type": "stream",
     "text": [
      "MAE: 0.6159828232098106\n",
      "MSE: 1.1034879033701126\n",
      "RMSE: 1.0504703248403129\n"
     ]
    }
   ],
   "source": [
    "from sklearn import metrics\n",
    "\n",
    "print('MAE:', metrics.mean_absolute_error(y_test, ypred2))\n",
    "\n",
    "\n",
    "print('MSE:', metrics.mean_squared_error(y_test, ypred2))\n",
    "\n",
    "\n",
    "print('RMSE:', np.sqrt(metrics.mean_squared_error(y_test, ypred2)))\n",
    "\n",
    "#Am folosit RandomForestRegression pentru a determina valorile MAE, RMSE, MSE"
   ]
  },
  {
   "cell_type": "code",
   "execution_count": 48,
   "id": "3017d135",
   "metadata": {},
   "outputs": [],
   "source": [
    "lr= LinearRegression()\n",
    "lr.fit(x_train,y_train)\n",
    "y_pred=lr.predict(x_test)"
   ]
  },
  {
   "cell_type": "code",
   "execution_count": 61,
   "id": "0cf88c5f",
   "metadata": {},
   "outputs": [
    {
     "name": "stderr",
     "output_type": "stream",
     "text": [
      "<ipython-input-61-4bf4abebc3b9>:4: SettingWithCopyWarning: \n",
      "A value is trying to be set on a copy of a slice from a DataFrame.\n",
      "Try using .loc[row_indexer,col_indexer] = value instead\n",
      "\n",
      "See the caveats in the documentation: https://pandas.pydata.org/pandas-docs/stable/user_guide/indexing.html#returning-a-view-versus-a-copy\n",
      "  train_data[num_cols] = scaler.fit_transform(train_data[num_cols])\n",
      "D:\\Anaconda\\lib\\site-packages\\pandas\\core\\indexing.py:1738: SettingWithCopyWarning: \n",
      "A value is trying to be set on a copy of a slice from a DataFrame.\n",
      "Try using .loc[row_indexer,col_indexer] = value instead\n",
      "\n",
      "See the caveats in the documentation: https://pandas.pydata.org/pandas-docs/stable/user_guide/indexing.html#returning-a-view-versus-a-copy\n",
      "  self._setitem_single_column(loc, value[:, i].tolist(), pi)\n",
      "<ipython-input-61-4bf4abebc3b9>:5: SettingWithCopyWarning: \n",
      "A value is trying to be set on a copy of a slice from a DataFrame.\n",
      "Try using .loc[row_indexer,col_indexer] = value instead\n",
      "\n",
      "See the caveats in the documentation: https://pandas.pydata.org/pandas-docs/stable/user_guide/indexing.html#returning-a-view-versus-a-copy\n",
      "  test_data[num_cols] = scaler.transform(test_data[num_cols])\n",
      "D:\\Anaconda\\lib\\site-packages\\pandas\\core\\indexing.py:1738: SettingWithCopyWarning: \n",
      "A value is trying to be set on a copy of a slice from a DataFrame.\n",
      "Try using .loc[row_indexer,col_indexer] = value instead\n",
      "\n",
      "See the caveats in the documentation: https://pandas.pydata.org/pandas-docs/stable/user_guide/indexing.html#returning-a-view-versus-a-copy\n",
      "  self._setitem_single_column(loc, value[:, i].tolist(), pi)\n"
     ]
    }
   ],
   "source": [
    "train_data , test_data = train_test_split(df, test_size = 0.2 , random_state = 42)\n",
    "num_cols = ['age','selling_price','present_price','km_driven']\n",
    "scaler = StandardScaler()\n",
    "train_data[num_cols] = scaler.fit_transform(train_data[num_cols])\n",
    "test_data[num_cols] = scaler.transform(test_data[num_cols])\n",
    "\n",
    "\n",
    "#Am folosit regresia lineara si am calculat MAE, RMSE, MSE"
   ]
  },
  {
   "cell_type": "code",
   "execution_count": 67,
   "id": "e2ddce59",
   "metadata": {},
   "outputs": [],
   "source": [
    "x_train = train_data.drop(['selling_price'], axis = 1) \n",
    "y_train = train_data['selling_price']\n",
    "x_test = test_data.drop(['selling_price'], axis = 1) \n",
    "y_test = test_data['selling_price']\n",
    "\n",
    "#Am prezis valoarea selling_price și am calculat diferența dintre valoarea prezisă și valoarea inițială."
   ]
  },
  {
   "cell_type": "code",
   "execution_count": 68,
   "id": "711c30ca",
   "metadata": {},
   "outputs": [
    {
     "name": "stdout",
     "output_type": "stream",
     "text": [
      "(240, 12)\n",
      "(61, 12)\n"
     ]
    }
   ],
   "source": [
    "print(train_data.shape)\n",
    "print(test_data.shape)"
   ]
  },
  {
   "cell_type": "code",
   "execution_count": 64,
   "id": "bbf070e3",
   "metadata": {},
   "outputs": [
    {
     "data": {
      "text/html": [
       "<div>\n",
       "<style scoped>\n",
       "    .dataframe tbody tr th:only-of-type {\n",
       "        vertical-align: middle;\n",
       "    }\n",
       "\n",
       "    .dataframe tbody tr th {\n",
       "        vertical-align: top;\n",
       "    }\n",
       "\n",
       "    .dataframe thead th {\n",
       "        text-align: right;\n",
       "    }\n",
       "</style>\n",
       "<table border=\"1\" class=\"dataframe\">\n",
       "  <thead>\n",
       "    <tr style=\"text-align: right;\">\n",
       "      <th></th>\n",
       "      <th>selling_price</th>\n",
       "      <th>present_price</th>\n",
       "      <th>km_driven</th>\n",
       "      <th>owner</th>\n",
       "      <th>fuel_CNG</th>\n",
       "      <th>fuel_Diesel</th>\n",
       "      <th>fuel_Petrol</th>\n",
       "      <th>seller_type_Dealer</th>\n",
       "      <th>seller_type_Individual</th>\n",
       "      <th>transmission_Automatic</th>\n",
       "      <th>transmission_Manual</th>\n",
       "      <th>age</th>\n",
       "    </tr>\n",
       "  </thead>\n",
       "  <tbody>\n",
       "    <tr>\n",
       "      <th>0</th>\n",
       "      <td>3.35</td>\n",
       "      <td>5.59</td>\n",
       "      <td>27000</td>\n",
       "      <td>0</td>\n",
       "      <td>0</td>\n",
       "      <td>0</td>\n",
       "      <td>1</td>\n",
       "      <td>1</td>\n",
       "      <td>0</td>\n",
       "      <td>0</td>\n",
       "      <td>1</td>\n",
       "      <td>6</td>\n",
       "    </tr>\n",
       "    <tr>\n",
       "      <th>1</th>\n",
       "      <td>4.75</td>\n",
       "      <td>9.54</td>\n",
       "      <td>43000</td>\n",
       "      <td>0</td>\n",
       "      <td>0</td>\n",
       "      <td>1</td>\n",
       "      <td>0</td>\n",
       "      <td>1</td>\n",
       "      <td>0</td>\n",
       "      <td>0</td>\n",
       "      <td>1</td>\n",
       "      <td>7</td>\n",
       "    </tr>\n",
       "    <tr>\n",
       "      <th>2</th>\n",
       "      <td>7.25</td>\n",
       "      <td>9.85</td>\n",
       "      <td>6900</td>\n",
       "      <td>0</td>\n",
       "      <td>0</td>\n",
       "      <td>0</td>\n",
       "      <td>1</td>\n",
       "      <td>1</td>\n",
       "      <td>0</td>\n",
       "      <td>0</td>\n",
       "      <td>1</td>\n",
       "      <td>3</td>\n",
       "    </tr>\n",
       "    <tr>\n",
       "      <th>3</th>\n",
       "      <td>2.85</td>\n",
       "      <td>4.15</td>\n",
       "      <td>5200</td>\n",
       "      <td>0</td>\n",
       "      <td>0</td>\n",
       "      <td>0</td>\n",
       "      <td>1</td>\n",
       "      <td>1</td>\n",
       "      <td>0</td>\n",
       "      <td>0</td>\n",
       "      <td>1</td>\n",
       "      <td>9</td>\n",
       "    </tr>\n",
       "    <tr>\n",
       "      <th>4</th>\n",
       "      <td>4.60</td>\n",
       "      <td>6.87</td>\n",
       "      <td>42450</td>\n",
       "      <td>0</td>\n",
       "      <td>0</td>\n",
       "      <td>1</td>\n",
       "      <td>0</td>\n",
       "      <td>1</td>\n",
       "      <td>0</td>\n",
       "      <td>0</td>\n",
       "      <td>1</td>\n",
       "      <td>6</td>\n",
       "    </tr>\n",
       "    <tr>\n",
       "      <th>5</th>\n",
       "      <td>9.25</td>\n",
       "      <td>9.83</td>\n",
       "      <td>2071</td>\n",
       "      <td>0</td>\n",
       "      <td>0</td>\n",
       "      <td>1</td>\n",
       "      <td>0</td>\n",
       "      <td>1</td>\n",
       "      <td>0</td>\n",
       "      <td>0</td>\n",
       "      <td>1</td>\n",
       "      <td>2</td>\n",
       "    </tr>\n",
       "    <tr>\n",
       "      <th>6</th>\n",
       "      <td>6.75</td>\n",
       "      <td>8.12</td>\n",
       "      <td>18796</td>\n",
       "      <td>0</td>\n",
       "      <td>0</td>\n",
       "      <td>0</td>\n",
       "      <td>1</td>\n",
       "      <td>1</td>\n",
       "      <td>0</td>\n",
       "      <td>0</td>\n",
       "      <td>1</td>\n",
       "      <td>5</td>\n",
       "    </tr>\n",
       "    <tr>\n",
       "      <th>7</th>\n",
       "      <td>6.50</td>\n",
       "      <td>8.61</td>\n",
       "      <td>33429</td>\n",
       "      <td>0</td>\n",
       "      <td>0</td>\n",
       "      <td>1</td>\n",
       "      <td>0</td>\n",
       "      <td>1</td>\n",
       "      <td>0</td>\n",
       "      <td>0</td>\n",
       "      <td>1</td>\n",
       "      <td>5</td>\n",
       "    </tr>\n",
       "    <tr>\n",
       "      <th>8</th>\n",
       "      <td>8.75</td>\n",
       "      <td>8.89</td>\n",
       "      <td>20273</td>\n",
       "      <td>0</td>\n",
       "      <td>0</td>\n",
       "      <td>1</td>\n",
       "      <td>0</td>\n",
       "      <td>1</td>\n",
       "      <td>0</td>\n",
       "      <td>0</td>\n",
       "      <td>1</td>\n",
       "      <td>4</td>\n",
       "    </tr>\n",
       "    <tr>\n",
       "      <th>9</th>\n",
       "      <td>7.45</td>\n",
       "      <td>8.92</td>\n",
       "      <td>42367</td>\n",
       "      <td>0</td>\n",
       "      <td>0</td>\n",
       "      <td>1</td>\n",
       "      <td>0</td>\n",
       "      <td>1</td>\n",
       "      <td>0</td>\n",
       "      <td>0</td>\n",
       "      <td>1</td>\n",
       "      <td>5</td>\n",
       "    </tr>\n",
       "  </tbody>\n",
       "</table>\n",
       "</div>"
      ],
      "text/plain": [
       "   selling_price  present_price  km_driven  owner  fuel_CNG  fuel_Diesel  \\\n",
       "0           3.35           5.59      27000      0         0            0   \n",
       "1           4.75           9.54      43000      0         0            1   \n",
       "2           7.25           9.85       6900      0         0            0   \n",
       "3           2.85           4.15       5200      0         0            0   \n",
       "4           4.60           6.87      42450      0         0            1   \n",
       "5           9.25           9.83       2071      0         0            1   \n",
       "6           6.75           8.12      18796      0         0            0   \n",
       "7           6.50           8.61      33429      0         0            1   \n",
       "8           8.75           8.89      20273      0         0            1   \n",
       "9           7.45           8.92      42367      0         0            1   \n",
       "\n",
       "   fuel_Petrol  seller_type_Dealer  seller_type_Individual  \\\n",
       "0            1                   1                       0   \n",
       "1            0                   1                       0   \n",
       "2            1                   1                       0   \n",
       "3            1                   1                       0   \n",
       "4            0                   1                       0   \n",
       "5            0                   1                       0   \n",
       "6            1                   1                       0   \n",
       "7            0                   1                       0   \n",
       "8            0                   1                       0   \n",
       "9            0                   1                       0   \n",
       "\n",
       "   transmission_Automatic  transmission_Manual  age  \n",
       "0                       0                    1    6  \n",
       "1                       0                    1    7  \n",
       "2                       0                    1    3  \n",
       "3                       0                    1    9  \n",
       "4                       0                    1    6  \n",
       "5                       0                    1    2  \n",
       "6                       0                    1    5  \n",
       "7                       0                    1    5  \n",
       "8                       0                    1    4  \n",
       "9                       0                    1    5  "
      ]
     },
     "execution_count": 64,
     "metadata": {},
     "output_type": "execute_result"
    }
   ],
   "source": [
    "df.head(10)"
   ]
  },
  {
   "cell_type": "code",
   "execution_count": 105,
   "id": "7e9d70b7",
   "metadata": {},
   "outputs": [
    {
     "name": "stdout",
     "output_type": "stream",
     "text": [
      "Eroarea medie absolută : 0.2365416476113683\n",
      "Abaterea medie pătratică  : 0.13158817158799938\n",
      "Media pătratică(RMSE) : 0.3627508395414122\n",
      "R2 Score(coeficientul de determinare) : 0.7948624857739327\n"
     ]
    }
   ],
   "source": [
    "model = LinearRegression()\n",
    "model.fit(x_train, y_train)\n",
    "predicted = model.predict(x_test)\n",
    "\n",
    "print(\"Eroarea medie absolută : \"+str(metrics.mean_absolute_error(predicted , y_test)))\n",
    "print(\"Abaterea medie pătratică  : \"+str(metrics.mean_squared_error(predicted , y_test)))\n",
    "print(\"Media pătratică(RMSE) : \"+str(np.sqrt(metrics.mean_squared_error(predicted , y_test))))\n",
    "\n",
    "print(\"R2 Score(coeficientul de determinare) : \"+str(metrics.r2_score(predicted , y_test)))\n",
    "\n",
    "\n",
    "#Eroarea medie absolută ( MAE ) este o măsură a erorilor între observațiile pereche care exprimă același fenomen.\n",
    "\n",
    "#Eroarea pătratică medie ( MSE )sau abaterea pătrată mediemăsoară media pătratelor erorilor \n",
    "# ,adică diferența medie pătrată între valorile estimate şi valoarea reală. \n",
    "\n",
    "#Root Mean Squared Error (RMSE) reprezintă abaterea dintre valorile prezise și valorile actuale.\n",
    "\n",
    "#Coeficientul de determinare reprezintă proporția variabilei independente care este previzibilă în variabila independentă."
   ]
  },
  {
   "cell_type": "code",
   "execution_count": 70,
   "id": "00dc4aaa",
   "metadata": {},
   "outputs": [],
   "source": [
    "model = LinearRegression()"
   ]
  },
  {
   "cell_type": "code",
   "execution_count": 72,
   "id": "2396eaf2",
   "metadata": {},
   "outputs": [
    {
     "data": {
      "text/plain": [
       "LinearRegression()"
      ]
     },
     "execution_count": 72,
     "metadata": {},
     "output_type": "execute_result"
    }
   ],
   "source": [
    "model.fit(x_train,y_train)"
   ]
  },
  {
   "cell_type": "code",
   "execution_count": 73,
   "id": "09323dc5",
   "metadata": {},
   "outputs": [],
   "source": [
    "test_predections = model.predict(x_test)"
   ]
  },
  {
   "cell_type": "code",
   "execution_count": 80,
   "id": "100359cd",
   "metadata": {},
   "outputs": [],
   "source": [
    "val_reziduala = y_test - test_predections"
   ]
  },
  {
   "cell_type": "code",
   "execution_count": 81,
   "id": "110dc252",
   "metadata": {},
   "outputs": [
    {
     "data": {
      "text/plain": [
       "Text(0, 0.5, 'Eroare reziduală')"
      ]
     },
     "execution_count": 81,
     "metadata": {},
     "output_type": "execute_result"
    },
    {
     "data": {
      "image/png": "[encoded data removed]",
      "text/plain": [
       "<Figure size 1500x900 with 1 Axes>"
      ]
     },
     "metadata": {
      "needs_background": "light"
     },
     "output_type": "display_data"
    }
   ],
   "source": [
    "plt.figure(figsize=(10,6),dpi=150)\n",
    "sns.scatterplot(x=y_test,y=val_reziduala)\n",
    "plt.axhline(y=0,color ='r')\n",
    "plt.ylabel('Eroare reziduală')"
   ]
  },
  {
   "cell_type": "code",
   "execution_count": 82,
   "id": "77ff2699",
   "metadata": {},
   "outputs": [],
   "source": [
    "df['model_prezis'] = np.round(model.predict(x),1)"
   ]
  },
  {
   "cell_type": "code",
   "execution_count": 83,
   "id": "84f6a4c3",
   "metadata": {},
   "outputs": [
    {
     "data": {
      "text/html": [
       "<div>\n",
       "<style scoped>\n",
       "    .dataframe tbody tr th:only-of-type {\n",
       "        vertical-align: middle;\n",
       "    }\n",
       "\n",
       "    .dataframe tbody tr th {\n",
       "        vertical-align: top;\n",
       "    }\n",
       "\n",
       "    .dataframe thead th {\n",
       "        text-align: right;\n",
       "    }\n",
       "</style>\n",
       "<table border=\"1\" class=\"dataframe\">\n",
       "  <thead>\n",
       "    <tr style=\"text-align: right;\">\n",
       "      <th></th>\n",
       "      <th>selling_price</th>\n",
       "      <th>present_price</th>\n",
       "      <th>km_driven</th>\n",
       "      <th>owner</th>\n",
       "      <th>fuel_CNG</th>\n",
       "      <th>fuel_Diesel</th>\n",
       "      <th>fuel_Petrol</th>\n",
       "      <th>seller_type_Dealer</th>\n",
       "      <th>seller_type_Individual</th>\n",
       "      <th>transmission_Automatic</th>\n",
       "      <th>transmission_Manual</th>\n",
       "      <th>age</th>\n",
       "      <th>model_predection</th>\n",
       "      <th>Residual</th>\n",
       "      <th>model_prezis</th>\n",
       "    </tr>\n",
       "  </thead>\n",
       "  <tbody>\n",
       "    <tr>\n",
       "      <th>0</th>\n",
       "      <td>3.35</td>\n",
       "      <td>5.59</td>\n",
       "      <td>27000</td>\n",
       "      <td>0</td>\n",
       "      <td>0</td>\n",
       "      <td>0</td>\n",
       "      <td>1</td>\n",
       "      <td>1</td>\n",
       "      <td>0</td>\n",
       "      <td>0</td>\n",
       "      <td>1</td>\n",
       "      <td>6</td>\n",
       "      <td>-1347.4</td>\n",
       "      <td>1350.8</td>\n",
       "      <td>-1347.4</td>\n",
       "    </tr>\n",
       "    <tr>\n",
       "      <th>1</th>\n",
       "      <td>4.75</td>\n",
       "      <td>9.54</td>\n",
       "      <td>43000</td>\n",
       "      <td>0</td>\n",
       "      <td>0</td>\n",
       "      <td>1</td>\n",
       "      <td>0</td>\n",
       "      <td>1</td>\n",
       "      <td>0</td>\n",
       "      <td>0</td>\n",
       "      <td>1</td>\n",
       "      <td>7</td>\n",
       "      <td>-2144.5</td>\n",
       "      <td>2149.2</td>\n",
       "      <td>-2144.5</td>\n",
       "    </tr>\n",
       "    <tr>\n",
       "      <th>2</th>\n",
       "      <td>7.25</td>\n",
       "      <td>9.85</td>\n",
       "      <td>6900</td>\n",
       "      <td>0</td>\n",
       "      <td>0</td>\n",
       "      <td>0</td>\n",
       "      <td>1</td>\n",
       "      <td>1</td>\n",
       "      <td>0</td>\n",
       "      <td>0</td>\n",
       "      <td>1</td>\n",
       "      <td>3</td>\n",
       "      <td>-338.3</td>\n",
       "      <td>345.6</td>\n",
       "      <td>-338.3</td>\n",
       "    </tr>\n",
       "    <tr>\n",
       "      <th>3</th>\n",
       "      <td>2.85</td>\n",
       "      <td>4.15</td>\n",
       "      <td>5200</td>\n",
       "      <td>0</td>\n",
       "      <td>0</td>\n",
       "      <td>0</td>\n",
       "      <td>1</td>\n",
       "      <td>1</td>\n",
       "      <td>0</td>\n",
       "      <td>0</td>\n",
       "      <td>1</td>\n",
       "      <td>9</td>\n",
       "      <td>-258.8</td>\n",
       "      <td>261.7</td>\n",
       "      <td>-258.8</td>\n",
       "    </tr>\n",
       "    <tr>\n",
       "      <th>4</th>\n",
       "      <td>4.60</td>\n",
       "      <td>6.87</td>\n",
       "      <td>42450</td>\n",
       "      <td>0</td>\n",
       "      <td>0</td>\n",
       "      <td>1</td>\n",
       "      <td>0</td>\n",
       "      <td>1</td>\n",
       "      <td>0</td>\n",
       "      <td>0</td>\n",
       "      <td>1</td>\n",
       "      <td>6</td>\n",
       "      <td>-2118.8</td>\n",
       "      <td>2123.4</td>\n",
       "      <td>-2118.8</td>\n",
       "    </tr>\n",
       "    <tr>\n",
       "      <th>...</th>\n",
       "      <td>...</td>\n",
       "      <td>...</td>\n",
       "      <td>...</td>\n",
       "      <td>...</td>\n",
       "      <td>...</td>\n",
       "      <td>...</td>\n",
       "      <td>...</td>\n",
       "      <td>...</td>\n",
       "      <td>...</td>\n",
       "      <td>...</td>\n",
       "      <td>...</td>\n",
       "      <td>...</td>\n",
       "      <td>...</td>\n",
       "      <td>...</td>\n",
       "      <td>...</td>\n",
       "    </tr>\n",
       "    <tr>\n",
       "      <th>296</th>\n",
       "      <td>9.50</td>\n",
       "      <td>11.60</td>\n",
       "      <td>33988</td>\n",
       "      <td>0</td>\n",
       "      <td>0</td>\n",
       "      <td>1</td>\n",
       "      <td>0</td>\n",
       "      <td>1</td>\n",
       "      <td>0</td>\n",
       "      <td>0</td>\n",
       "      <td>1</td>\n",
       "      <td>4</td>\n",
       "      <td>-1691.7</td>\n",
       "      <td>1701.2</td>\n",
       "      <td>-1691.7</td>\n",
       "    </tr>\n",
       "    <tr>\n",
       "      <th>297</th>\n",
       "      <td>4.00</td>\n",
       "      <td>5.90</td>\n",
       "      <td>60000</td>\n",
       "      <td>0</td>\n",
       "      <td>0</td>\n",
       "      <td>0</td>\n",
       "      <td>1</td>\n",
       "      <td>1</td>\n",
       "      <td>0</td>\n",
       "      <td>0</td>\n",
       "      <td>1</td>\n",
       "      <td>5</td>\n",
       "      <td>-2997.4</td>\n",
       "      <td>3001.4</td>\n",
       "      <td>-2997.4</td>\n",
       "    </tr>\n",
       "    <tr>\n",
       "      <th>298</th>\n",
       "      <td>3.35</td>\n",
       "      <td>11.00</td>\n",
       "      <td>87934</td>\n",
       "      <td>0</td>\n",
       "      <td>0</td>\n",
       "      <td>0</td>\n",
       "      <td>1</td>\n",
       "      <td>1</td>\n",
       "      <td>0</td>\n",
       "      <td>0</td>\n",
       "      <td>1</td>\n",
       "      <td>11</td>\n",
       "      <td>-4391.9</td>\n",
       "      <td>4395.2</td>\n",
       "      <td>-4391.9</td>\n",
       "    </tr>\n",
       "    <tr>\n",
       "      <th>299</th>\n",
       "      <td>11.50</td>\n",
       "      <td>12.50</td>\n",
       "      <td>9000</td>\n",
       "      <td>0</td>\n",
       "      <td>0</td>\n",
       "      <td>1</td>\n",
       "      <td>0</td>\n",
       "      <td>1</td>\n",
       "      <td>0</td>\n",
       "      <td>0</td>\n",
       "      <td>1</td>\n",
       "      <td>3</td>\n",
       "      <td>-441.0</td>\n",
       "      <td>452.5</td>\n",
       "      <td>-441.0</td>\n",
       "    </tr>\n",
       "    <tr>\n",
       "      <th>300</th>\n",
       "      <td>5.30</td>\n",
       "      <td>5.90</td>\n",
       "      <td>5464</td>\n",
       "      <td>0</td>\n",
       "      <td>0</td>\n",
       "      <td>0</td>\n",
       "      <td>1</td>\n",
       "      <td>1</td>\n",
       "      <td>0</td>\n",
       "      <td>0</td>\n",
       "      <td>1</td>\n",
       "      <td>4</td>\n",
       "      <td>-269.7</td>\n",
       "      <td>275.0</td>\n",
       "      <td>-269.7</td>\n",
       "    </tr>\n",
       "  </tbody>\n",
       "</table>\n",
       "<p>301 rows × 15 columns</p>\n",
       "</div>"
      ],
      "text/plain": [
       "     selling_price  present_price  km_driven  owner  fuel_CNG  fuel_Diesel  \\\n",
       "0             3.35           5.59      27000      0         0            0   \n",
       "1             4.75           9.54      43000      0         0            1   \n",
       "2             7.25           9.85       6900      0         0            0   \n",
       "3             2.85           4.15       5200      0         0            0   \n",
       "4             4.60           6.87      42450      0         0            1   \n",
       "..             ...            ...        ...    ...       ...          ...   \n",
       "296           9.50          11.60      33988      0         0            1   \n",
       "297           4.00           5.90      60000      0         0            0   \n",
       "298           3.35          11.00      87934      0         0            0   \n",
       "299          11.50          12.50       9000      0         0            1   \n",
       "300           5.30           5.90       5464      0         0            0   \n",
       "\n",
       "     fuel_Petrol  seller_type_Dealer  seller_type_Individual  \\\n",
       "0              1                   1                       0   \n",
       "1              0                   1                       0   \n",
       "2              1                   1                       0   \n",
       "3              1                   1                       0   \n",
       "4              0                   1                       0   \n",
       "..           ...                 ...                     ...   \n",
       "296            0                   1                       0   \n",
       "297            1                   1                       0   \n",
       "298            1                   1                       0   \n",
       "299            0                   1                       0   \n",
       "300            1                   1                       0   \n",
       "\n",
       "     transmission_Automatic  transmission_Manual  age  model_predection  \\\n",
       "0                         0                    1    6           -1347.4   \n",
       "1                         0                    1    7           -2144.5   \n",
       "2                         0                    1    3            -338.3   \n",
       "3                         0                    1    9            -258.8   \n",
       "4                         0                    1    6           -2118.8   \n",
       "..                      ...                  ...  ...               ...   \n",
       "296                       0                    1    4           -1691.7   \n",
       "297                       0                    1    5           -2997.4   \n",
       "298                       0                    1   11           -4391.9   \n",
       "299                       0                    1    3            -441.0   \n",
       "300                       0                    1    4            -269.7   \n",
       "\n",
       "     Residual  model_prezis  \n",
       "0      1350.8       -1347.4  \n",
       "1      2149.2       -2144.5  \n",
       "2       345.6        -338.3  \n",
       "3       261.7        -258.8  \n",
       "4      2123.4       -2118.8  \n",
       "..        ...           ...  \n",
       "296    1701.2       -1691.7  \n",
       "297    3001.4       -2997.4  \n",
       "298    4395.2       -4391.9  \n",
       "299     452.5        -441.0  \n",
       "300     275.0        -269.7  \n",
       "\n",
       "[301 rows x 15 columns]"
      ]
     },
     "execution_count": 83,
     "metadata": {},
     "output_type": "execute_result"
    }
   ],
   "source": [
    "df"
   ]
  },
  {
   "cell_type": "code",
   "execution_count": 84,
   "id": "029edf40",
   "metadata": {},
   "outputs": [
    {
     "data": {
      "text/html": [
       "<div>\n",
       "<style scoped>\n",
       "    .dataframe tbody tr th:only-of-type {\n",
       "        vertical-align: middle;\n",
       "    }\n",
       "\n",
       "    .dataframe tbody tr th {\n",
       "        vertical-align: top;\n",
       "    }\n",
       "\n",
       "    .dataframe thead th {\n",
       "        text-align: right;\n",
       "    }\n",
       "</style>\n",
       "<table border=\"1\" class=\"dataframe\">\n",
       "  <thead>\n",
       "    <tr style=\"text-align: right;\">\n",
       "      <th></th>\n",
       "      <th>selling_price</th>\n",
       "      <th>present_price</th>\n",
       "      <th>km_driven</th>\n",
       "      <th>owner</th>\n",
       "      <th>fuel_CNG</th>\n",
       "      <th>fuel_Diesel</th>\n",
       "      <th>fuel_Petrol</th>\n",
       "      <th>seller_type_Dealer</th>\n",
       "      <th>seller_type_Individual</th>\n",
       "      <th>transmission_Automatic</th>\n",
       "      <th>transmission_Manual</th>\n",
       "      <th>age</th>\n",
       "      <th>model_predection</th>\n",
       "      <th>Residual</th>\n",
       "      <th>model_prezis</th>\n",
       "      <th>Rezidual</th>\n",
       "    </tr>\n",
       "  </thead>\n",
       "  <tbody>\n",
       "    <tr>\n",
       "      <th>0</th>\n",
       "      <td>3.35</td>\n",
       "      <td>5.59</td>\n",
       "      <td>27000</td>\n",
       "      <td>0</td>\n",
       "      <td>0</td>\n",
       "      <td>0</td>\n",
       "      <td>1</td>\n",
       "      <td>1</td>\n",
       "      <td>0</td>\n",
       "      <td>0</td>\n",
       "      <td>1</td>\n",
       "      <td>6</td>\n",
       "      <td>-1347.4</td>\n",
       "      <td>1350.8</td>\n",
       "      <td>-1347.4</td>\n",
       "      <td>1350.8</td>\n",
       "    </tr>\n",
       "    <tr>\n",
       "      <th>1</th>\n",
       "      <td>4.75</td>\n",
       "      <td>9.54</td>\n",
       "      <td>43000</td>\n",
       "      <td>0</td>\n",
       "      <td>0</td>\n",
       "      <td>1</td>\n",
       "      <td>0</td>\n",
       "      <td>1</td>\n",
       "      <td>0</td>\n",
       "      <td>0</td>\n",
       "      <td>1</td>\n",
       "      <td>7</td>\n",
       "      <td>-2144.5</td>\n",
       "      <td>2149.2</td>\n",
       "      <td>-2144.5</td>\n",
       "      <td>2149.2</td>\n",
       "    </tr>\n",
       "    <tr>\n",
       "      <th>2</th>\n",
       "      <td>7.25</td>\n",
       "      <td>9.85</td>\n",
       "      <td>6900</td>\n",
       "      <td>0</td>\n",
       "      <td>0</td>\n",
       "      <td>0</td>\n",
       "      <td>1</td>\n",
       "      <td>1</td>\n",
       "      <td>0</td>\n",
       "      <td>0</td>\n",
       "      <td>1</td>\n",
       "      <td>3</td>\n",
       "      <td>-338.3</td>\n",
       "      <td>345.6</td>\n",
       "      <td>-338.3</td>\n",
       "      <td>345.6</td>\n",
       "    </tr>\n",
       "    <tr>\n",
       "      <th>3</th>\n",
       "      <td>2.85</td>\n",
       "      <td>4.15</td>\n",
       "      <td>5200</td>\n",
       "      <td>0</td>\n",
       "      <td>0</td>\n",
       "      <td>0</td>\n",
       "      <td>1</td>\n",
       "      <td>1</td>\n",
       "      <td>0</td>\n",
       "      <td>0</td>\n",
       "      <td>1</td>\n",
       "      <td>9</td>\n",
       "      <td>-258.8</td>\n",
       "      <td>261.7</td>\n",
       "      <td>-258.8</td>\n",
       "      <td>261.7</td>\n",
       "    </tr>\n",
       "    <tr>\n",
       "      <th>4</th>\n",
       "      <td>4.60</td>\n",
       "      <td>6.87</td>\n",
       "      <td>42450</td>\n",
       "      <td>0</td>\n",
       "      <td>0</td>\n",
       "      <td>1</td>\n",
       "      <td>0</td>\n",
       "      <td>1</td>\n",
       "      <td>0</td>\n",
       "      <td>0</td>\n",
       "      <td>1</td>\n",
       "      <td>6</td>\n",
       "      <td>-2118.8</td>\n",
       "      <td>2123.4</td>\n",
       "      <td>-2118.8</td>\n",
       "      <td>2123.4</td>\n",
       "    </tr>\n",
       "    <tr>\n",
       "      <th>...</th>\n",
       "      <td>...</td>\n",
       "      <td>...</td>\n",
       "      <td>...</td>\n",
       "      <td>...</td>\n",
       "      <td>...</td>\n",
       "      <td>...</td>\n",
       "      <td>...</td>\n",
       "      <td>...</td>\n",
       "      <td>...</td>\n",
       "      <td>...</td>\n",
       "      <td>...</td>\n",
       "      <td>...</td>\n",
       "      <td>...</td>\n",
       "      <td>...</td>\n",
       "      <td>...</td>\n",
       "      <td>...</td>\n",
       "    </tr>\n",
       "    <tr>\n",
       "      <th>296</th>\n",
       "      <td>9.50</td>\n",
       "      <td>11.60</td>\n",
       "      <td>33988</td>\n",
       "      <td>0</td>\n",
       "      <td>0</td>\n",
       "      <td>1</td>\n",
       "      <td>0</td>\n",
       "      <td>1</td>\n",
       "      <td>0</td>\n",
       "      <td>0</td>\n",
       "      <td>1</td>\n",
       "      <td>4</td>\n",
       "      <td>-1691.7</td>\n",
       "      <td>1701.2</td>\n",
       "      <td>-1691.7</td>\n",
       "      <td>1701.2</td>\n",
       "    </tr>\n",
       "    <tr>\n",
       "      <th>297</th>\n",
       "      <td>4.00</td>\n",
       "      <td>5.90</td>\n",
       "      <td>60000</td>\n",
       "      <td>0</td>\n",
       "      <td>0</td>\n",
       "      <td>0</td>\n",
       "      <td>1</td>\n",
       "      <td>1</td>\n",
       "      <td>0</td>\n",
       "      <td>0</td>\n",
       "      <td>1</td>\n",
       "      <td>5</td>\n",
       "      <td>-2997.4</td>\n",
       "      <td>3001.4</td>\n",
       "      <td>-2997.4</td>\n",
       "      <td>3001.4</td>\n",
       "    </tr>\n",
       "    <tr>\n",
       "      <th>298</th>\n",
       "      <td>3.35</td>\n",
       "      <td>11.00</td>\n",
       "      <td>87934</td>\n",
       "      <td>0</td>\n",
       "      <td>0</td>\n",
       "      <td>0</td>\n",
       "      <td>1</td>\n",
       "      <td>1</td>\n",
       "      <td>0</td>\n",
       "      <td>0</td>\n",
       "      <td>1</td>\n",
       "      <td>11</td>\n",
       "      <td>-4391.9</td>\n",
       "      <td>4395.2</td>\n",
       "      <td>-4391.9</td>\n",
       "      <td>4395.2</td>\n",
       "    </tr>\n",
       "    <tr>\n",
       "      <th>299</th>\n",
       "      <td>11.50</td>\n",
       "      <td>12.50</td>\n",
       "      <td>9000</td>\n",
       "      <td>0</td>\n",
       "      <td>0</td>\n",
       "      <td>1</td>\n",
       "      <td>0</td>\n",
       "      <td>1</td>\n",
       "      <td>0</td>\n",
       "      <td>0</td>\n",
       "      <td>1</td>\n",
       "      <td>3</td>\n",
       "      <td>-441.0</td>\n",
       "      <td>452.5</td>\n",
       "      <td>-441.0</td>\n",
       "      <td>452.5</td>\n",
       "    </tr>\n",
       "    <tr>\n",
       "      <th>300</th>\n",
       "      <td>5.30</td>\n",
       "      <td>5.90</td>\n",
       "      <td>5464</td>\n",
       "      <td>0</td>\n",
       "      <td>0</td>\n",
       "      <td>0</td>\n",
       "      <td>1</td>\n",
       "      <td>1</td>\n",
       "      <td>0</td>\n",
       "      <td>0</td>\n",
       "      <td>1</td>\n",
       "      <td>4</td>\n",
       "      <td>-269.7</td>\n",
       "      <td>275.0</td>\n",
       "      <td>-269.7</td>\n",
       "      <td>275.0</td>\n",
       "    </tr>\n",
       "  </tbody>\n",
       "</table>\n",
       "<p>301 rows × 16 columns</p>\n",
       "</div>"
      ],
      "text/plain": [
       "     selling_price  present_price  km_driven  owner  fuel_CNG  fuel_Diesel  \\\n",
       "0             3.35           5.59      27000      0         0            0   \n",
       "1             4.75           9.54      43000      0         0            1   \n",
       "2             7.25           9.85       6900      0         0            0   \n",
       "3             2.85           4.15       5200      0         0            0   \n",
       "4             4.60           6.87      42450      0         0            1   \n",
       "..             ...            ...        ...    ...       ...          ...   \n",
       "296           9.50          11.60      33988      0         0            1   \n",
       "297           4.00           5.90      60000      0         0            0   \n",
       "298           3.35          11.00      87934      0         0            0   \n",
       "299          11.50          12.50       9000      0         0            1   \n",
       "300           5.30           5.90       5464      0         0            0   \n",
       "\n",
       "     fuel_Petrol  seller_type_Dealer  seller_type_Individual  \\\n",
       "0              1                   1                       0   \n",
       "1              0                   1                       0   \n",
       "2              1                   1                       0   \n",
       "3              1                   1                       0   \n",
       "4              0                   1                       0   \n",
       "..           ...                 ...                     ...   \n",
       "296            0                   1                       0   \n",
       "297            1                   1                       0   \n",
       "298            1                   1                       0   \n",
       "299            0                   1                       0   \n",
       "300            1                   1                       0   \n",
       "\n",
       "     transmission_Automatic  transmission_Manual  age  model_predection  \\\n",
       "0                         0                    1    6           -1347.4   \n",
       "1                         0                    1    7           -2144.5   \n",
       "2                         0                    1    3            -338.3   \n",
       "3                         0                    1    9            -258.8   \n",
       "4                         0                    1    6           -2118.8   \n",
       "..                      ...                  ...  ...               ...   \n",
       "296                       0                    1    4           -1691.7   \n",
       "297                       0                    1    5           -2997.4   \n",
       "298                       0                    1   11           -4391.9   \n",
       "299                       0                    1    3            -441.0   \n",
       "300                       0                    1    4            -269.7   \n",
       "\n",
       "     Residual  model_prezis  Rezidual  \n",
       "0      1350.8       -1347.4    1350.8  \n",
       "1      2149.2       -2144.5    2149.2  \n",
       "2       345.6        -338.3     345.6  \n",
       "3       261.7        -258.8     261.7  \n",
       "4      2123.4       -2118.8    2123.4  \n",
       "..        ...           ...       ...  \n",
       "296    1701.2       -1691.7    1701.2  \n",
       "297    3001.4       -2997.4    3001.4  \n",
       "298    4395.2       -4391.9    4395.2  \n",
       "299     452.5        -441.0     452.5  \n",
       "300     275.0        -269.7     275.0  \n",
       "\n",
       "[301 rows x 16 columns]"
      ]
     },
     "execution_count": 84,
     "metadata": {},
     "output_type": "execute_result"
    }
   ],
   "source": [
    "\n",
    "df['Rezidual'] = np.round(df['selling_price'] - df['model_prezis'],1)\n",
    "df\n",
    "\n",
    "#Eroarea reziduală este 1350/10.000=0.13, ceea ce înseamnă că la un preț de 33.500 rupi, modelul nostru a prezis cu o diferență de 1347."
   ]
  },
  {
   "cell_type": "code",
   "execution_count": 58,
   "id": "42eceac9",
   "metadata": {},
   "outputs": [
    {
     "name": "stderr",
     "output_type": "stream",
     "text": [
      "D:\\Anaconda\\lib\\site-packages\\seaborn\\_decorators.py:36: FutureWarning: Pass the following variables as keyword args: x, y. From version 0.12, the only valid positional argument will be `data`, and passing other arguments without an explicit keyword will result in an error or misinterpretation.\n",
      "  warnings.warn(\n"
     ]
    },
    {
     "data": {
      "image/png": "[encoded data removed]",
      "text/plain": [
       "<Figure size 432x288 with 1 Axes>"
      ]
     },
     "metadata": {
      "needs_background": "light"
     },
     "output_type": "display_data"
    }
   ],
   "source": [
    "model = LinearRegression()\n",
    "model.fit(x_train, y_train)\n",
    "predicted = model.predict(x_test)\n",
    "sns.scatterplot(predicted , y_test)\n",
    "\n",
    "\n",
    "\n"
   ]
  },
  {
   "cell_type": "code",
   "execution_count": 173,
   "id": "aebcd1e4",
   "metadata": {},
   "outputs": [
    {
     "data": {
      "text/html": [
       "<div>\n",
       "<style scoped>\n",
       "    .dataframe tbody tr th:only-of-type {\n",
       "        vertical-align: middle;\n",
       "    }\n",
       "\n",
       "    .dataframe tbody tr th {\n",
       "        vertical-align: top;\n",
       "    }\n",
       "\n",
       "    .dataframe thead th {\n",
       "        text-align: right;\n",
       "    }\n",
       "</style>\n",
       "<table border=\"1\" class=\"dataframe\">\n",
       "  <thead>\n",
       "    <tr style=\"text-align: right;\">\n",
       "      <th></th>\n",
       "      <th>Actual</th>\n",
       "      <th>Predicted</th>\n",
       "    </tr>\n",
       "  </thead>\n",
       "  <tbody>\n",
       "    <tr>\n",
       "      <th>223</th>\n",
       "      <td>8.25</td>\n",
       "      <td>7.517500</td>\n",
       "    </tr>\n",
       "    <tr>\n",
       "      <th>150</th>\n",
       "      <td>0.50</td>\n",
       "      <td>-0.381360</td>\n",
       "    </tr>\n",
       "    <tr>\n",
       "      <th>226</th>\n",
       "      <td>5.25</td>\n",
       "      <td>4.255947</td>\n",
       "    </tr>\n",
       "    <tr>\n",
       "      <th>296</th>\n",
       "      <td>9.50</td>\n",
       "      <td>9.007192</td>\n",
       "    </tr>\n",
       "    <tr>\n",
       "      <th>52</th>\n",
       "      <td>18.00</td>\n",
       "      <td>14.426934</td>\n",
       "    </tr>\n",
       "  </tbody>\n",
       "</table>\n",
       "</div>"
      ],
      "text/plain": [
       "     Actual  Predicted\n",
       "223    8.25   7.517500\n",
       "150    0.50  -0.381360\n",
       "226    5.25   4.255947\n",
       "296    9.50   9.007192\n",
       "52    18.00  14.426934"
      ]
     },
     "execution_count": 173,
     "metadata": {},
     "output_type": "execute_result"
    }
   ],
   "source": [
    "df = pd.DataFrame({'Actual':y_test,\"Predicted\":y_pred})\n",
    "df.head()"
   ]
  },
  {
   "cell_type": "code",
   "execution_count": null,
   "id": "fa3e265d",
   "metadata": {},
   "outputs": [],
   "source": [
    "#MULTICOLINIARITATE\n",
    "\n",
    "#Toate atributele sunt independete, mai puțin selling price, care a fost prezis.\n",
    "#Astfel, nu există multicoliniaritate.\n"
   ]
  },
  {
   "cell_type": "code",
   "execution_count": null,
   "id": "00ef632a",
   "metadata": {},
   "outputs": [],
   "source": [
    "#Prețul present al unei mașini joacă un rol important în prezicerea prețului de vânzare, unul crește direct proporțional cu celălalt.\n",
    "\n",
    "#Vârsta mașinii afectează negativ prețul prezent al unei mașini, astfel cu cât aceasta este mai veche, cu atât prețul este mai mic.\n",
    "\n",
    "\n",
    "#Prețul de vânzare al mașinilor cu combustibil Diesel este mai mare.\n",
    "\n",
    "#Mașinile cu cutie manuală au prețuri mai mici față de cele cu cutie automată.\n",
    "\n",
    "#Mașinile vândute de persoane fizice tind să coste mai puțin decât cele care sunt vândute de către dealeri."
   ]
  }
 ],
 "metadata": {
  "kernelspec": {
   "display_name": "Python 3",
   "language": "python",
   "name": "python3"
  },
  "language_info": {
   "codemirror_mode": {
    "name": "ipython",
    "version": 3
   },
   "file_extension": ".py",
   "mimetype": "text/x-python",
   "name": "python",
   "nbconvert_exporter": "python",
   "pygments_lexer": "ipython3",
   "version": "3.8.8"
  }
 },
 "nbformat": 4,
 "nbformat_minor": 5
}
